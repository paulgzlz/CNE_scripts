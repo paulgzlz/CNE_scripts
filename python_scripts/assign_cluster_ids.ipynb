{
 "cells": [
  {
   "cell_type": "markdown",
   "metadata": {},
   "source": [
    "### Goal\n",
    "\n",
    "- Assign identifier to clusters\n",
    "- Discard singletons (CNEs with no surviving homologous sequence in other species after filtering)\n",
    "\n",
    "#### Input\n",
    "\n",
    "merged_cne_clusters.csv (output of merge_homologous_cnes.py)\n",
    "\n",
    "#### Output\n",
    "\n",
    "pre_filtering_clusters.csv (input of parsimony_analysis)\n"
   ]
  },
  {
   "cell_type": "code",
   "execution_count": 1,
   "metadata": {
    "collapsed": true
   },
   "outputs": [],
   "source": [
    "import csv\n",
    "from collections import defaultdict"
   ]
  },
  {
   "cell_type": "code",
   "execution_count": 5,
   "metadata": {
    "collapsed": true
   },
   "outputs": [],
   "source": [
    "merged_clusters = \"merged_cne_clusters.csv\""
   ]
  },
  {
   "cell_type": "code",
   "execution_count": 6,
   "metadata": {
    "collapsed": true
   },
   "outputs": [],
   "source": [
    "output_clusters = \"pre_filtering_clusters.csv\""
   ]
  },
  {
   "cell_type": "code",
   "execution_count": 7,
   "metadata": {},
   "outputs": [],
   "source": [
    "with open(merged_clusters) as input_file:\n",
    "    cne_file = csv.reader(input_file, delimiter = ',')\n",
    "    with open(output_clusters, \"w\") as output_file:\n",
    "        writer = csv.writer(output_file, delimiter=',')\n",
    "        i = 1 # counter to generate cluster ids\n",
    "        for row in cne_file:\n",
    "            cluster_id = 'cluster_' + str(i)\n",
    "            species_set = set()\n",
    "            for cne in row:\n",
    "                # Retrieve species name and add to species_set\n",
    "                species = cne.split(\"_cne_\")[0]\n",
    "                species_set.add(species)\n",
    "            if len(species_set) > 1: # Exclude clusters of one CNE\n",
    "                row.insert(0, cluster_id) \n",
    "                writer.writerow(row)\n",
    "                i+=1"
   ]
  },
  {
   "cell_type": "markdown",
   "metadata": {},
   "source": [
    "#### Count CNEs for each species"
   ]
  },
  {
   "cell_type": "code",
   "execution_count": 8,
   "metadata": {
    "scrolled": true
   },
   "outputs": [
    {
     "data": {
      "text/plain": [
       "defaultdict(int,\n",
       "            {'aaur': 3259,\n",
       "             'adig': 62452,\n",
       "             'aten': 7368,\n",
       "             'chem': 3160,\n",
       "             'dgig': 5391,\n",
       "             'epal': 6697,\n",
       "             'hsym': 9874,\n",
       "             'hvul': 4091,\n",
       "             'mvir': 6295,\n",
       "             'nvec': 4804,\n",
       "             'ofav': 44939,\n",
       "             'pdam': 87139,\n",
       "             'spis': 120123})"
      ]
     },
     "execution_count": 8,
     "metadata": {},
     "output_type": "execute_result"
    }
   ],
   "source": [
    "sp_cne_summary = defaultdict(int)\n",
    "with open(output_clusters, 'r') as csvfile:\n",
    "    cne_file = csv.reader(csvfile, delimiter = ',')\n",
    "    for row in cne_file:\n",
    "        cnes = row[1:]\n",
    "        for cne in cnes:\n",
    "            species = cne.split(\"_cne_\")[0]\n",
    "            sp_cne_summary[species] += 1\n",
    "sp_cne_summary"
   ]
  }
 ],
 "metadata": {
  "kernelspec": {
   "display_name": "Python 3 (ipykernel)",
   "language": "python",
   "name": "python3"
  },
  "language_info": {
   "codemirror_mode": {
    "name": "ipython",
    "version": 3
   },
   "file_extension": ".py",
   "mimetype": "text/x-python",
   "name": "python",
   "nbconvert_exporter": "python",
   "pygments_lexer": "ipython3",
   "version": "3.11.3"
  }
 },
 "nbformat": 4,
 "nbformat_minor": 2
}
