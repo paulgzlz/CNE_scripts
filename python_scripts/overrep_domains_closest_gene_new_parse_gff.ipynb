{
 "cells": [
  {
   "cell_type": "markdown",
   "id": "ed349aa1",
   "metadata": {},
   "source": [
    "### Goal\n",
    "\n",
    "Test for overrepresentation of protein domains in genes associated with high number of CNEs (defined by associating each CNE to its closest gene).\n",
    "\n",
    "### Input\n",
    "\n",
    "- closest_gene_counts_by_node.tsv: number of CNEs associated with (closest to) each gene, separated by node of origin (generated with find_closest_gene.py)\n",
    "- gene_IPR_dict.pickle: dictionary of protein domains for each gene (generated with find_closest_gene.py)\n",
    "\n",
    "### Output\n",
    "\n",
    "- gene_IPR.tsv: dataframe of gene-Interpro domain links\n",
    "- all_species_overrep_domains.tsv: Results of Fisher test for all species, all protein domains\n",
    "- summary_by_sp.tsv: short summary of results\n",
    "- sp_counts.tsv: overrepresented domains ranked by number of species\n",
    "- summary_by_node.tsv: short summary of results for analysis run separately for CNEs of each node\n",
    "- overrep_domains_node_count.tsv: overrepresented domains ranked by number of nodes\n",
    "- homeo_pvalues.tsv: pvalues for homeodomain only, for downstream analyses."
   ]
  },
  {
   "cell_type": "code",
   "execution_count": 1,
   "id": "74e2a5a7",
   "metadata": {
    "collapsed": true
   },
   "outputs": [],
   "source": [
    "import sys\n",
    "import scipy.stats as stats\n",
    "import pandas as pd\n",
    "import glob\n",
    "import statistics\n",
    "import collections\n",
    "import pickle"
   ]
  },
  {
   "cell_type": "markdown",
   "id": "25b79a7a",
   "metadata": {},
   "source": [
    "#### Read table of CNE counts per gene"
   ]
  },
  {
   "cell_type": "code",
   "execution_count": 2,
   "id": "b04e18fc",
   "metadata": {
    "scrolled": true
   },
   "outputs": [
    {
     "data": {
      "text/html": [
       "<div>\n",
       "<style scoped>\n",
       "    .dataframe tbody tr th:only-of-type {\n",
       "        vertical-align: middle;\n",
       "    }\n",
       "\n",
       "    .dataframe tbody tr th {\n",
       "        vertical-align: top;\n",
       "    }\n",
       "\n",
       "    .dataframe thead th {\n",
       "        text-align: right;\n",
       "    }\n",
       "</style>\n",
       "<table border=\"1\" class=\"dataframe\">\n",
       "  <thead>\n",
       "    <tr style=\"text-align: right;\">\n",
       "      <th></th>\n",
       "      <th>species</th>\n",
       "      <th>gene_id</th>\n",
       "      <th>closest_cne_count</th>\n",
       "      <th>cne_node</th>\n",
       "    </tr>\n",
       "  </thead>\n",
       "  <tbody>\n",
       "    <tr>\n",
       "      <th>0</th>\n",
       "      <td>spis</td>\n",
       "      <td>gene-LOC111326177</td>\n",
       "      <td>2</td>\n",
       "      <td>hexacorallia</td>\n",
       "    </tr>\n",
       "    <tr>\n",
       "      <th>1</th>\n",
       "      <td>spis</td>\n",
       "      <td>gene-LOC111327133</td>\n",
       "      <td>1</td>\n",
       "      <td>hexacorallia</td>\n",
       "    </tr>\n",
       "    <tr>\n",
       "      <th>2</th>\n",
       "      <td>spis</td>\n",
       "      <td>gene-LOC111328643</td>\n",
       "      <td>1</td>\n",
       "      <td>hexacorallia</td>\n",
       "    </tr>\n",
       "    <tr>\n",
       "      <th>3</th>\n",
       "      <td>spis</td>\n",
       "      <td>gene-LOC111331958</td>\n",
       "      <td>1</td>\n",
       "      <td>hexacorallia</td>\n",
       "    </tr>\n",
       "    <tr>\n",
       "      <th>4</th>\n",
       "      <td>spis</td>\n",
       "      <td>gene-LOC111325339</td>\n",
       "      <td>1</td>\n",
       "      <td>hexacorallia</td>\n",
       "    </tr>\n",
       "    <tr>\n",
       "      <th>...</th>\n",
       "      <td>...</td>\n",
       "      <td>...</td>\n",
       "      <td>...</td>\n",
       "      <td>...</td>\n",
       "    </tr>\n",
       "    <tr>\n",
       "      <th>138947</th>\n",
       "      <td>nvec</td>\n",
       "      <td>gene-LOC5521942</td>\n",
       "      <td>1</td>\n",
       "      <td>ambiguous</td>\n",
       "    </tr>\n",
       "    <tr>\n",
       "      <th>138948</th>\n",
       "      <td>nvec</td>\n",
       "      <td>gene-LOC5521953</td>\n",
       "      <td>1</td>\n",
       "      <td>ambiguous</td>\n",
       "    </tr>\n",
       "    <tr>\n",
       "      <th>138949</th>\n",
       "      <td>nvec</td>\n",
       "      <td>gene-LOC5522147</td>\n",
       "      <td>2</td>\n",
       "      <td>ambiguous</td>\n",
       "    </tr>\n",
       "    <tr>\n",
       "      <th>138950</th>\n",
       "      <td>nvec</td>\n",
       "      <td>gene-LOC116604813</td>\n",
       "      <td>1</td>\n",
       "      <td>ambiguous</td>\n",
       "    </tr>\n",
       "    <tr>\n",
       "      <th>138951</th>\n",
       "      <td>nvec</td>\n",
       "      <td>gene-LOC5522361</td>\n",
       "      <td>1</td>\n",
       "      <td>ambiguous</td>\n",
       "    </tr>\n",
       "  </tbody>\n",
       "</table>\n",
       "<p>138952 rows × 4 columns</p>\n",
       "</div>"
      ],
      "text/plain": [
       "       species            gene_id  closest_cne_count      cne_node\n",
       "0         spis  gene-LOC111326177                  2  hexacorallia\n",
       "1         spis  gene-LOC111327133                  1  hexacorallia\n",
       "2         spis  gene-LOC111328643                  1  hexacorallia\n",
       "3         spis  gene-LOC111331958                  1  hexacorallia\n",
       "4         spis  gene-LOC111325339                  1  hexacorallia\n",
       "...        ...                ...                ...           ...\n",
       "138947    nvec    gene-LOC5521942                  1     ambiguous\n",
       "138948    nvec    gene-LOC5521953                  1     ambiguous\n",
       "138949    nvec    gene-LOC5522147                  2     ambiguous\n",
       "138950    nvec  gene-LOC116604813                  1     ambiguous\n",
       "138951    nvec    gene-LOC5522361                  1     ambiguous\n",
       "\n",
       "[138952 rows x 4 columns]"
      ]
     },
     "execution_count": 2,
     "metadata": {},
     "output_type": "execute_result"
    }
   ],
   "source": [
    "closest_genes = \"../../find_closest_gene/new_parse_gff/closest_gene_counts_by_node.tsv\"\n",
    "closest_genes_df = pd.read_csv(closest_genes, sep=\"\\t\")\n",
    "closest_genes_df.columns.values[1] = 'gene_id'\n",
    "# Exclude cnes without genes on same scaffold\n",
    "closest_genes_df = closest_genes_df[closest_genes_df['gene_id'] != 'no_gene']\n",
    "closest_genes_df"
   ]
  },
  {
   "cell_type": "code",
   "execution_count": 7,
   "id": "1b9194b1",
   "metadata": {},
   "outputs": [
    {
     "data": {
      "text/html": [
       "<div>\n",
       "<style scoped>\n",
       "    .dataframe tbody tr th:only-of-type {\n",
       "        vertical-align: middle;\n",
       "    }\n",
       "\n",
       "    .dataframe tbody tr th {\n",
       "        vertical-align: top;\n",
       "    }\n",
       "\n",
       "    .dataframe thead th {\n",
       "        text-align: right;\n",
       "    }\n",
       "</style>\n",
       "<table border=\"1\" class=\"dataframe\">\n",
       "  <thead>\n",
       "    <tr style=\"text-align: right;\">\n",
       "      <th></th>\n",
       "      <th>species</th>\n",
       "      <th>gene_id</th>\n",
       "      <th>closest_cne_count</th>\n",
       "      <th>cne_node</th>\n",
       "    </tr>\n",
       "  </thead>\n",
       "  <tbody>\n",
       "    <tr>\n",
       "      <th>27791</th>\n",
       "      <td>spis</td>\n",
       "      <td>gene-LOC111323368</td>\n",
       "      <td>89</td>\n",
       "      <td>pocilloporidae</td>\n",
       "    </tr>\n",
       "    <tr>\n",
       "      <th>129102</th>\n",
       "      <td>pdam</td>\n",
       "      <td>gene-LOC113673894</td>\n",
       "      <td>87</td>\n",
       "      <td>pocilloporidae</td>\n",
       "    </tr>\n",
       "    <tr>\n",
       "      <th>34597</th>\n",
       "      <td>spis</td>\n",
       "      <td>gene-LOC111335778</td>\n",
       "      <td>74</td>\n",
       "      <td>pocilloporidae</td>\n",
       "    </tr>\n",
       "    <tr>\n",
       "      <th>31787</th>\n",
       "      <td>spis</td>\n",
       "      <td>gene-LOC111330647</td>\n",
       "      <td>65</td>\n",
       "      <td>pocilloporidae</td>\n",
       "    </tr>\n",
       "    <tr>\n",
       "      <th>127491</th>\n",
       "      <td>pdam</td>\n",
       "      <td>gene-LOC113671074</td>\n",
       "      <td>62</td>\n",
       "      <td>pocilloporidae</td>\n",
       "    </tr>\n",
       "    <tr>\n",
       "      <th>...</th>\n",
       "      <td>...</td>\n",
       "      <td>...</td>\n",
       "      <td>...</td>\n",
       "      <td>...</td>\n",
       "    </tr>\n",
       "    <tr>\n",
       "      <th>61377</th>\n",
       "      <td>ofav</td>\n",
       "      <td>gene-LOC110058478</td>\n",
       "      <td>1</td>\n",
       "      <td>cnidaria</td>\n",
       "    </tr>\n",
       "    <tr>\n",
       "      <th>61375</th>\n",
       "      <td>ofav</td>\n",
       "      <td>gene-LOC110058338</td>\n",
       "      <td>1</td>\n",
       "      <td>cnidaria</td>\n",
       "    </tr>\n",
       "    <tr>\n",
       "      <th>61374</th>\n",
       "      <td>ofav</td>\n",
       "      <td>gene-LOC110058297</td>\n",
       "      <td>1</td>\n",
       "      <td>cnidaria</td>\n",
       "    </tr>\n",
       "    <tr>\n",
       "      <th>61373</th>\n",
       "      <td>ofav</td>\n",
       "      <td>gene-LOC110058202</td>\n",
       "      <td>1</td>\n",
       "      <td>cnidaria</td>\n",
       "    </tr>\n",
       "    <tr>\n",
       "      <th>138951</th>\n",
       "      <td>nvec</td>\n",
       "      <td>gene-LOC5522361</td>\n",
       "      <td>1</td>\n",
       "      <td>ambiguous</td>\n",
       "    </tr>\n",
       "  </tbody>\n",
       "</table>\n",
       "<p>138952 rows × 4 columns</p>\n",
       "</div>"
      ],
      "text/plain": [
       "       species            gene_id  closest_cne_count        cne_node\n",
       "27791     spis  gene-LOC111323368                 89  pocilloporidae\n",
       "129102    pdam  gene-LOC113673894                 87  pocilloporidae\n",
       "34597     spis  gene-LOC111335778                 74  pocilloporidae\n",
       "31787     spis  gene-LOC111330647                 65  pocilloporidae\n",
       "127491    pdam  gene-LOC113671074                 62  pocilloporidae\n",
       "...        ...                ...                ...             ...\n",
       "61377     ofav  gene-LOC110058478                  1        cnidaria\n",
       "61375     ofav  gene-LOC110058338                  1        cnidaria\n",
       "61374     ofav  gene-LOC110058297                  1        cnidaria\n",
       "61373     ofav  gene-LOC110058202                  1        cnidaria\n",
       "138951    nvec    gene-LOC5522361                  1       ambiguous\n",
       "\n",
       "[138952 rows x 4 columns]"
      ]
     },
     "execution_count": 7,
     "metadata": {},
     "output_type": "execute_result"
    }
   ],
   "source": [
    "closest_genes_df.sort_values('closest_cne_count', ascending=False)"
   ]
  },
  {
   "cell_type": "markdown",
   "id": "727ea7af",
   "metadata": {},
   "source": [
    "#### Read protein domain information"
   ]
  },
  {
   "cell_type": "code",
   "execution_count": 3,
   "id": "624ca039",
   "metadata": {
    "collapsed": true
   },
   "outputs": [],
   "source": [
    "gene_IPR_file = \"../../find_closest_gene/new_parse_gff/gene_IPR_dict.pickle\""
   ]
  },
  {
   "cell_type": "code",
   "execution_count": 4,
   "id": "db049e27",
   "metadata": {
    "collapsed": true
   },
   "outputs": [],
   "source": [
    "with open(gene_IPR_file, \"rb\") as infile:\n",
    "    gene_IPR_dict = pickle.load(infile)"
   ]
  },
  {
   "cell_type": "code",
   "execution_count": 5,
   "id": "8dcdba56",
   "metadata": {
    "scrolled": true
   },
   "outputs": [
    {
     "name": "stdout",
     "output_type": "stream",
     "text": [
      "spis 24846\n",
      "hsym 22022\n",
      "aaur 30167\n",
      "dgig 22045\n",
      "chem 45872\n",
      "ofav 25929\n",
      "aten 19980\n",
      "mvir 24278\n",
      "hvul 20058\n",
      "adig 26073\n",
      "epal 22509\n",
      "pdam 19935\n",
      "nvec 23845\n"
     ]
    }
   ],
   "source": [
    "for species, gene_dict in gene_IPR_dict.items():\n",
    "    print(species, len(gene_dict))"
   ]
  },
  {
   "cell_type": "markdown",
   "id": "49ed6a43",
   "metadata": {},
   "source": [
    "### Retrieve IPR descriptions\n",
    " If IPR description file does not exist"
   ]
  },
  {
   "cell_type": "code",
   "execution_count": 11,
   "id": "4923d966",
   "metadata": {
    "collapsed": true,
    "scrolled": true
   },
   "outputs": [],
   "source": [
    "ipr_desc = {}\n",
    "all_IPRS_desc = pd.DataFrame()\n",
    "for file in interpro_files:\n",
    "    print(file)\n",
    "    species = file.split(\"/\")[-1].split(\"_\")[0]\n",
    "    interpro_results = pd.read_table(file, names = ('gene_id', 'identifier', 'length', 'software', \n",
    "                                                         'software_id', 'software_prediction', 'start', 'end',\n",
    "                                                         'score', 'status', 'date', 'IPR_id', 'description'))\n",
    "    for idx, row in interpro_results.iterrows():\n",
    "        IPR_id = row['IPR_id']\n",
    "        description = row['description']\n",
    "        ipr_desc[IPR_id] = description\n",
    "all_IPRS_desc = pd.DataFrame(ipr_desc.items(), columns=['IPR_id','description'])\n",
    "all_IPRS_desc = all_IPRS_desc.append(ipr_desc_df)\n",
    "all_IPRS_desc = all_IPRS_desc.drop_duplicates('IPR_id')\n",
    "all_IPRS_desc "
   ]
  },
  {
   "cell_type": "code",
   "execution_count": 12,
   "id": "9e2c5484",
   "metadata": {
    "collapsed": true
   },
   "outputs": [],
   "source": [
    "all_IPRS_desc"
   ]
  },
  {
   "cell_type": "code",
   "execution_count": 13,
   "id": "fea8f8a9",
   "metadata": {
    "collapsed": true
   },
   "outputs": [],
   "source": [
    "all_IPRS_desc.to_csv(\"all_IPR_desc.tsv\", sep=\"\\t\", index=False)"
   ]
  },
  {
   "cell_type": "markdown",
   "id": "8b4de851",
   "metadata": {},
   "source": [
    "#### Read file of IPR descriptions if it already exists"
   ]
  },
  {
   "cell_type": "code",
   "execution_count": 6,
   "id": "94019c3c",
   "metadata": {},
   "outputs": [
    {
     "data": {
      "text/html": [
       "<div>\n",
       "<style scoped>\n",
       "    .dataframe tbody tr th:only-of-type {\n",
       "        vertical-align: middle;\n",
       "    }\n",
       "\n",
       "    .dataframe tbody tr th {\n",
       "        vertical-align: top;\n",
       "    }\n",
       "\n",
       "    .dataframe thead th {\n",
       "        text-align: right;\n",
       "    }\n",
       "</style>\n",
       "<table border=\"1\" class=\"dataframe\">\n",
       "  <thead>\n",
       "    <tr style=\"text-align: right;\">\n",
       "      <th></th>\n",
       "      <th>IPR_id</th>\n",
       "      <th>description</th>\n",
       "    </tr>\n",
       "  </thead>\n",
       "  <tbody>\n",
       "    <tr>\n",
       "      <th>0</th>\n",
       "      <td>NaN</td>\n",
       "      <td>NaN</td>\n",
       "    </tr>\n",
       "    <tr>\n",
       "      <th>1</th>\n",
       "      <td>IPR002181</td>\n",
       "      <td>Fibrinogen, alpha/beta/gamma chain, C-terminal...</td>\n",
       "    </tr>\n",
       "    <tr>\n",
       "      <th>2</th>\n",
       "      <td>IPR036056</td>\n",
       "      <td>Fibrinogen-like, C-terminal</td>\n",
       "    </tr>\n",
       "    <tr>\n",
       "      <th>3</th>\n",
       "      <td>IPR000885</td>\n",
       "      <td>Fibrillar collagen, C-terminal</td>\n",
       "    </tr>\n",
       "    <tr>\n",
       "      <th>4</th>\n",
       "      <td>IPR002110</td>\n",
       "      <td>Ankyrin repeat</td>\n",
       "    </tr>\n",
       "    <tr>\n",
       "      <th>...</th>\n",
       "      <td>...</td>\n",
       "      <td>...</td>\n",
       "    </tr>\n",
       "    <tr>\n",
       "      <th>14329</th>\n",
       "      <td>IPR003566</td>\n",
       "      <td>T-cell surface glycoprotein CD5</td>\n",
       "    </tr>\n",
       "    <tr>\n",
       "      <th>14330</th>\n",
       "      <td>IPR037004</td>\n",
       "      <td>Exonuclease VII, small subunit superfamily</td>\n",
       "    </tr>\n",
       "    <tr>\n",
       "      <th>14331</th>\n",
       "      <td>IPR004124</td>\n",
       "      <td>Glycoside hydrolase, family 33, N-terminal</td>\n",
       "    </tr>\n",
       "    <tr>\n",
       "      <th>14332</th>\n",
       "      <td>IPR012480</td>\n",
       "      <td>Heparinase II/III-like</td>\n",
       "    </tr>\n",
       "    <tr>\n",
       "      <th>14333</th>\n",
       "      <td>IPR022045</td>\n",
       "      <td>Insecticide toxin TcdB middle/N-terminal</td>\n",
       "    </tr>\n",
       "  </tbody>\n",
       "</table>\n",
       "<p>14334 rows × 2 columns</p>\n",
       "</div>"
      ],
      "text/plain": [
       "          IPR_id                                        description\n",
       "0            NaN                                                NaN\n",
       "1      IPR002181  Fibrinogen, alpha/beta/gamma chain, C-terminal...\n",
       "2      IPR036056                        Fibrinogen-like, C-terminal\n",
       "3      IPR000885                     Fibrillar collagen, C-terminal\n",
       "4      IPR002110                                     Ankyrin repeat\n",
       "...          ...                                                ...\n",
       "14329  IPR003566                    T-cell surface glycoprotein CD5\n",
       "14330  IPR037004         Exonuclease VII, small subunit superfamily\n",
       "14331  IPR004124         Glycoside hydrolase, family 33, N-terminal\n",
       "14332  IPR012480                             Heparinase II/III-like\n",
       "14333  IPR022045           Insecticide toxin TcdB middle/N-terminal\n",
       "\n",
       "[14334 rows x 2 columns]"
      ]
     },
     "execution_count": 6,
     "metadata": {},
     "output_type": "execute_result"
    }
   ],
   "source": [
    "all_IPRS_desc = pd.read_csv(\"../avg/with_conv_filt/all_IPR_desc.tsv\", sep=\"\\t\")\n",
    "all_IPRS_desc"
   ]
  },
  {
   "cell_type": "markdown",
   "id": "1a84ca86",
   "metadata": {
    "collapsed": true
   },
   "source": [
    "### Make dataframe of gene_IPRs (one IPR per row)"
   ]
  },
  {
   "cell_type": "code",
   "execution_count": 10,
   "id": "a232b749",
   "metadata": {
    "scrolled": true
   },
   "outputs": [
    {
     "name": "stdout",
     "output_type": "stream",
     "text": [
      "spis\n",
      "hsym\n",
      "aaur\n",
      "dgig\n",
      "chem\n",
      "ofav\n",
      "aten\n",
      "mvir\n",
      "hvul\n",
      "adig\n",
      "epal\n",
      "pdam\n",
      "nvec\n"
     ]
    }
   ],
   "source": [
    "gene_IPR_df = pd.DataFrame(columns=['species', 'gene_id', 'IPR_id'])\n",
    "for species, gene_dict in gene_IPR_dict.items():\n",
    "    print(species)\n",
    "    sp_df = pd.DataFrame(columns=['gene_id', 'IPR_id'])\n",
    "    for gene_id, IPR_list in gene_dict.items():\n",
    "        if len(IPR_list)>0:\n",
    "            for IPR in IPR_list:\n",
    "                row = [gene_id, IPR]\n",
    "                sp_df.loc[len(sp_df)] = row\n",
    "        else:\n",
    "            row = [gene_id, 'no_IPR']\n",
    "            sp_df.loc[len(sp_df)] = row\n",
    "    sp_df['species'] = species\n",
    "    gene_IPR_df = pd.concat([gene_IPR_df, sp_df], axis=0)"
   ]
  },
  {
   "cell_type": "code",
   "execution_count": 11,
   "id": "4b419b1e",
   "metadata": {
    "collapsed": true
   },
   "outputs": [],
   "source": [
    "#gene_IPR_df.to_csv(\"gene_IPR.tsv\", sep=\"\\t\", index=False)"
   ]
  },
  {
   "cell_type": "code",
   "execution_count": 7,
   "id": "8f38263a",
   "metadata": {
    "collapsed": true
   },
   "outputs": [],
   "source": [
    "# Read if file already exists\n",
    "gene_IPR_df = pd.read_csv(\"gene_IPR.tsv\", sep=\"\\t\")"
   ]
  },
  {
   "cell_type": "code",
   "execution_count": 9,
   "id": "dd219189",
   "metadata": {},
   "outputs": [
    {
     "data": {
      "text/html": [
       "<div>\n",
       "<style scoped>\n",
       "    .dataframe tbody tr th:only-of-type {\n",
       "        vertical-align: middle;\n",
       "    }\n",
       "\n",
       "    .dataframe tbody tr th {\n",
       "        vertical-align: top;\n",
       "    }\n",
       "\n",
       "    .dataframe thead th {\n",
       "        text-align: right;\n",
       "    }\n",
       "</style>\n",
       "<table border=\"1\" class=\"dataframe\">\n",
       "  <thead>\n",
       "    <tr style=\"text-align: right;\">\n",
       "      <th></th>\n",
       "      <th>species</th>\n",
       "      <th>gene_id</th>\n",
       "      <th>IPR_id</th>\n",
       "    </tr>\n",
       "  </thead>\n",
       "  <tbody>\n",
       "    <tr>\n",
       "      <th>348572</th>\n",
       "      <td>chem</td>\n",
       "      <td>XLOC_000078</td>\n",
       "      <td>IPR016082</td>\n",
       "    </tr>\n",
       "    <tr>\n",
       "      <th>348573</th>\n",
       "      <td>chem</td>\n",
       "      <td>XLOC_000078</td>\n",
       "      <td>IPR035808</td>\n",
       "    </tr>\n",
       "    <tr>\n",
       "      <th>348574</th>\n",
       "      <td>chem</td>\n",
       "      <td>XLOC_000078</td>\n",
       "      <td>IPR039699</td>\n",
       "    </tr>\n",
       "    <tr>\n",
       "      <th>348575</th>\n",
       "      <td>chem</td>\n",
       "      <td>XLOC_000078</td>\n",
       "      <td>IPR018038</td>\n",
       "    </tr>\n",
       "    <tr>\n",
       "      <th>348576</th>\n",
       "      <td>chem</td>\n",
       "      <td>XLOC_000078</td>\n",
       "      <td>IPR005998</td>\n",
       "    </tr>\n",
       "    <tr>\n",
       "      <th>...</th>\n",
       "      <td>...</td>\n",
       "      <td>...</td>\n",
       "      <td>...</td>\n",
       "    </tr>\n",
       "    <tr>\n",
       "      <th>427911</th>\n",
       "      <td>chem</td>\n",
       "      <td>XLOC_045868</td>\n",
       "      <td>no_IPR</td>\n",
       "    </tr>\n",
       "    <tr>\n",
       "      <th>427912</th>\n",
       "      <td>chem</td>\n",
       "      <td>XLOC_045870</td>\n",
       "      <td>no_IPR</td>\n",
       "    </tr>\n",
       "    <tr>\n",
       "      <th>427913</th>\n",
       "      <td>chem</td>\n",
       "      <td>XLOC_045869</td>\n",
       "      <td>no_IPR</td>\n",
       "    </tr>\n",
       "    <tr>\n",
       "      <th>427914</th>\n",
       "      <td>chem</td>\n",
       "      <td>XLOC_045871</td>\n",
       "      <td>no_IPR</td>\n",
       "    </tr>\n",
       "    <tr>\n",
       "      <th>427915</th>\n",
       "      <td>chem</td>\n",
       "      <td>XLOC_045872</td>\n",
       "      <td>no_IPR</td>\n",
       "    </tr>\n",
       "  </tbody>\n",
       "</table>\n",
       "<p>79344 rows × 3 columns</p>\n",
       "</div>"
      ],
      "text/plain": [
       "       species      gene_id     IPR_id\n",
       "348572    chem  XLOC_000078  IPR016082\n",
       "348573    chem  XLOC_000078  IPR035808\n",
       "348574    chem  XLOC_000078  IPR039699\n",
       "348575    chem  XLOC_000078  IPR018038\n",
       "348576    chem  XLOC_000078  IPR005998\n",
       "...        ...          ...        ...\n",
       "427911    chem  XLOC_045868     no_IPR\n",
       "427912    chem  XLOC_045870     no_IPR\n",
       "427913    chem  XLOC_045869     no_IPR\n",
       "427914    chem  XLOC_045871     no_IPR\n",
       "427915    chem  XLOC_045872     no_IPR\n",
       "\n",
       "[79344 rows x 3 columns]"
      ]
     },
     "execution_count": 9,
     "metadata": {},
     "output_type": "execute_result"
    }
   ],
   "source": [
    "gene_IPR_df[gene_IPR_df['species']=='chem']"
   ]
  },
  {
   "cell_type": "markdown",
   "id": "0df32589",
   "metadata": {},
   "source": [
    "### Run Fisher tests"
   ]
  },
  {
   "cell_type": "code",
   "execution_count": 12,
   "id": "b68a4dda",
   "metadata": {
    "scrolled": true
   },
   "outputs": [
    {
     "name": "stdout",
     "output_type": "stream",
     "text": [
      "['hsym', 'hvul', 'pdam', 'ofav', 'epal', 'mvir', 'spis', 'chem', 'dgig', 'nvec', 'aaur', 'adig', 'aten']\n",
      "hsym\n",
      "Testing:  4375 distinct IPRs\n",
      "cne threshold: 0.29347924802470254\n",
      "Number of significant IPRs:  21\n",
      "hvul\n"
     ]
    },
    {
     "name": "stderr",
     "output_type": "stream",
     "text": [
      "/var/folders/7d/1vz75qmd7kn8tg41dhcpk_6cxm7gww/T/ipykernel_65871/3641709128.py:50: FutureWarning: The frame.append method is deprecated and will be removed from pandas in a future version. Use pandas.concat instead.\n",
      "  combined_output_df = combined_output_df.append(pval_df)\n"
     ]
    },
    {
     "name": "stdout",
     "output_type": "stream",
     "text": [
      "Testing:  2064 distinct IPRs\n",
      "cne threshold: 0.10115664572739057\n",
      "Number of significant IPRs:  0\n",
      "pdam\n",
      "Testing:  4895 distinct IPRs\n",
      "cne threshold: 4.083872585904189\n"
     ]
    },
    {
     "name": "stderr",
     "output_type": "stream",
     "text": [
      "/var/folders/7d/1vz75qmd7kn8tg41dhcpk_6cxm7gww/T/ipykernel_65871/3641709128.py:50: FutureWarning: The frame.append method is deprecated and will be removed from pandas in a future version. Use pandas.concat instead.\n",
      "  combined_output_df = combined_output_df.append(pval_df)\n"
     ]
    },
    {
     "name": "stdout",
     "output_type": "stream",
     "text": [
      "Number of significant IPRs:  76\n",
      "ofav\n"
     ]
    },
    {
     "name": "stderr",
     "output_type": "stream",
     "text": [
      "/var/folders/7d/1vz75qmd7kn8tg41dhcpk_6cxm7gww/T/ipykernel_65871/3641709128.py:50: FutureWarning: The frame.append method is deprecated and will be removed from pandas in a future version. Use pandas.concat instead.\n",
      "  combined_output_df = combined_output_df.append(pval_df)\n"
     ]
    },
    {
     "name": "stdout",
     "output_type": "stream",
     "text": [
      "Testing:  5081 distinct IPRs\n",
      "cne threshold: 1.6517027266766942\n",
      "Number of significant IPRs:  22\n",
      "epal\n",
      "Testing:  2859 distinct IPRs\n",
      "cne threshold: 0.22328846239282066\n"
     ]
    },
    {
     "name": "stderr",
     "output_type": "stream",
     "text": [
      "/var/folders/7d/1vz75qmd7kn8tg41dhcpk_6cxm7gww/T/ipykernel_65871/3641709128.py:50: FutureWarning: The frame.append method is deprecated and will be removed from pandas in a future version. Use pandas.concat instead.\n",
      "  combined_output_df = combined_output_df.append(pval_df)\n"
     ]
    },
    {
     "name": "stdout",
     "output_type": "stream",
     "text": [
      "Number of significant IPRs:  13\n",
      "mvir\n",
      "Testing:  2480 distinct IPRs\n",
      "cne threshold: 0.10931707718922481\n"
     ]
    },
    {
     "name": "stderr",
     "output_type": "stream",
     "text": [
      "/var/folders/7d/1vz75qmd7kn8tg41dhcpk_6cxm7gww/T/ipykernel_65871/3641709128.py:50: FutureWarning: The frame.append method is deprecated and will be removed from pandas in a future version. Use pandas.concat instead.\n",
      "  combined_output_df = combined_output_df.append(pval_df)\n"
     ]
    },
    {
     "name": "stdout",
     "output_type": "stream",
     "text": [
      "Number of significant IPRs:  6\n",
      "spis\n"
     ]
    },
    {
     "name": "stderr",
     "output_type": "stream",
     "text": [
      "/var/folders/7d/1vz75qmd7kn8tg41dhcpk_6cxm7gww/T/ipykernel_65871/3641709128.py:50: FutureWarning: The frame.append method is deprecated and will be removed from pandas in a future version. Use pandas.concat instead.\n",
      "  combined_output_df = combined_output_df.append(pval_df)\n"
     ]
    },
    {
     "name": "stdout",
     "output_type": "stream",
     "text": [
      "Testing:  5348 distinct IPRs\n",
      "cne threshold: 4.288295902761008\n",
      "Number of significant IPRs:  71\n",
      "chem\n"
     ]
    },
    {
     "name": "stderr",
     "output_type": "stream",
     "text": [
      "/var/folders/7d/1vz75qmd7kn8tg41dhcpk_6cxm7gww/T/ipykernel_65871/3641709128.py:50: FutureWarning: The frame.append method is deprecated and will be removed from pandas in a future version. Use pandas.concat instead.\n",
      "  combined_output_df = combined_output_df.append(pval_df)\n"
     ]
    },
    {
     "name": "stdout",
     "output_type": "stream",
     "text": [
      "Testing:  1505 distinct IPRs\n",
      "cne threshold: 0.04989972096267876\n",
      "Number of significant IPRs:  1\n",
      "dgig\n",
      "Testing:  1509 distinct IPRs\n",
      "cne threshold: 0.16157858924926288\n"
     ]
    },
    {
     "name": "stderr",
     "output_type": "stream",
     "text": [
      "/var/folders/7d/1vz75qmd7kn8tg41dhcpk_6cxm7gww/T/ipykernel_65871/3641709128.py:50: FutureWarning: The frame.append method is deprecated and will be removed from pandas in a future version. Use pandas.concat instead.\n",
      "  combined_output_df = combined_output_df.append(pval_df)\n"
     ]
    },
    {
     "name": "stdout",
     "output_type": "stream",
     "text": [
      "Number of significant IPRs:  22\n",
      "nvec\n"
     ]
    },
    {
     "name": "stderr",
     "output_type": "stream",
     "text": [
      "/var/folders/7d/1vz75qmd7kn8tg41dhcpk_6cxm7gww/T/ipykernel_65871/3641709128.py:50: FutureWarning: The frame.append method is deprecated and will be removed from pandas in a future version. Use pandas.concat instead.\n",
      "  combined_output_df = combined_output_df.append(pval_df)\n"
     ]
    },
    {
     "name": "stdout",
     "output_type": "stream",
     "text": [
      "Testing:  2590 distinct IPRs\n",
      "cne threshold: 0.14556510798909625\n",
      "Number of significant IPRs:  4\n",
      "aaur\n",
      "Testing:  1601 distinct IPRs\n",
      "cne threshold: 0.06659594921603076\n"
     ]
    },
    {
     "name": "stderr",
     "output_type": "stream",
     "text": [
      "/var/folders/7d/1vz75qmd7kn8tg41dhcpk_6cxm7gww/T/ipykernel_65871/3641709128.py:50: FutureWarning: The frame.append method is deprecated and will be removed from pandas in a future version. Use pandas.concat instead.\n",
      "  combined_output_df = combined_output_df.append(pval_df)\n"
     ]
    },
    {
     "name": "stdout",
     "output_type": "stream",
     "text": [
      "Number of significant IPRs:  1\n",
      "adig\n"
     ]
    },
    {
     "name": "stderr",
     "output_type": "stream",
     "text": [
      "/var/folders/7d/1vz75qmd7kn8tg41dhcpk_6cxm7gww/T/ipykernel_65871/3641709128.py:50: FutureWarning: The frame.append method is deprecated and will be removed from pandas in a future version. Use pandas.concat instead.\n",
      "  combined_output_df = combined_output_df.append(pval_df)\n"
     ]
    },
    {
     "name": "stdout",
     "output_type": "stream",
     "text": [
      "Testing:  4224 distinct IPRs\n",
      "cne threshold: 1.9154681087715262\n",
      "Number of significant IPRs:  56\n",
      "aten\n",
      "Testing:  3539 distinct IPRs\n",
      "cne threshold: 0.26306306306306304\n"
     ]
    },
    {
     "name": "stderr",
     "output_type": "stream",
     "text": [
      "/var/folders/7d/1vz75qmd7kn8tg41dhcpk_6cxm7gww/T/ipykernel_65871/3641709128.py:50: FutureWarning: The frame.append method is deprecated and will be removed from pandas in a future version. Use pandas.concat instead.\n",
      "  combined_output_df = combined_output_df.append(pval_df)\n"
     ]
    },
    {
     "name": "stdout",
     "output_type": "stream",
     "text": [
      "Number of significant IPRs:  22\n",
      "Writing output files\n"
     ]
    },
    {
     "name": "stderr",
     "output_type": "stream",
     "text": [
      "/var/folders/7d/1vz75qmd7kn8tg41dhcpk_6cxm7gww/T/ipykernel_65871/3641709128.py:50: FutureWarning: The frame.append method is deprecated and will be removed from pandas in a future version. Use pandas.concat instead.\n",
      "  combined_output_df = combined_output_df.append(pval_df)\n"
     ]
    }
   ],
   "source": [
    "combined_output_df = pd.DataFrame()\n",
    "summary_by_sp = pd.DataFrame(columns=['species', 'cne_count', 'gene_count', 'cne_threshold', \n",
    "                                      'num_IPR_tested', 'num_sig_IPRs', 'num_homeo'])\n",
    "sp_list = list(set(closest_genes_df['species']))\n",
    "print(sp_list)\n",
    "for species in sp_list:\n",
    "    print(species)\n",
    "    sp_df = closest_genes_df[closest_genes_df['species'] == species]\n",
    "    sp_df = sp_df.groupby('gene_id').sum().reset_index() \n",
    "    merged_sp_df = gene_IPR_df[gene_IPR_df['species'] == species].merge(sp_df, how='left')\n",
    "    merged_sp_df['closest_cne_count'] = merged_sp_df['closest_cne_count'].fillna(value=0)\n",
    "    total_genes = len(gene_IPR_df[gene_IPR_df['species'] == species]['gene_id'].unique())\n",
    "    total_cnes = sum(sp_df['closest_cne_count'])\n",
    "    cne_threshold = total_cnes/total_genes # mean cne count per gene in genome\n",
    "    with_CNE_df = merged_sp_df[merged_sp_df['closest_cne_count'] > cne_threshold]\n",
    "    without_CNE_df = merged_sp_df[merged_sp_df['closest_cne_count'] <= cne_threshold]\n",
    "    gene_count_wCNE = len(with_CNE_df['gene_id'].unique())\n",
    "    gene_count_noCNE = len(without_CNE_df['gene_id'].unique())\n",
    "    test_IPRs = list(with_CNE_df['IPR_id'].unique())\n",
    "    print(\"Testing: \", len(test_IPRs), \"distinct IPRs\")\n",
    "    print(\"cne threshold:\", cne_threshold)\n",
    "    pvalues = []\n",
    "    for test_IPR in test_IPRs:\n",
    "        #print(IPR_id)\n",
    "        # genes with high CNEs and containing protein domain\n",
    "        gene_count_wCNE_wIPR = len(with_CNE_df[with_CNE_df['IPR_id'] == test_IPR]['gene_id'].unique())\n",
    "        # genes with high CNEs not containing protein domain\n",
    "        gene_count_wCNE_noIPR = gene_count_wCNE - gene_count_wCNE_wIPR\n",
    "        # genes with low CNEs and containing protein domain\n",
    "        gene_count_noCNE_wIPR = len(without_CNE_df[without_CNE_df['IPR_id'] == test_IPR]['gene_id'].unique())\n",
    "        # genes with low CNEs not containing protein domain\n",
    "        gene_count_noCNE_noIPR = gene_count_noCNE - gene_count_noCNE_wIPR\n",
    "        # Make contingency table for Fisher test\n",
    "        cont_matrix = [[gene_count_wCNE_wIPR, gene_count_wCNE_noIPR], [gene_count_noCNE_wIPR, gene_count_noCNE_noIPR]]\n",
    "        # Run test\n",
    "        oddsratio, pvalue = stats.fisher_exact(cont_matrix, alternative = 'greater')\n",
    "        pvalues.append(pvalue)\n",
    "    # Bonferroni pvalue corrrection\n",
    "    padj = [pval * len(pvalues) for pval in pvalues]\n",
    "    table = {'IPR_id':test_IPRs, 'pvalue':pvalues, 'corrected pvalue':padj}\n",
    "    pval_df = pd.DataFrame(table)\n",
    "    pval_df = pval_df.sort_values(by = ['corrected pvalue'])\n",
    "    pval_df = pval_df.reset_index(drop = True)\n",
    "    pval_df = pval_df[pval_df['corrected pvalue'] <= 0.05]\n",
    "    print(\"Number of significant IPRs: \", len(pval_df))\n",
    "    pval_df = pval_df.merge(all_IPRS_desc).sort_values('corrected pvalue')\n",
    "    pval_df['species'] = species\n",
    "    num_homeo = pval_df[\"description\"].str.contains('Homeo').value_counts().get(True, 0)\n",
    "    summary_row = [species, total_cnes, total_genes, cne_threshold, len(test_IPRs), len(pval_df), num_homeo]\n",
    "    summary_by_sp.loc[len(summary_by_sp)] = summary_row\n",
    "    combined_output_df = combined_output_df.append(pval_df)\n",
    "combined_output_df = combined_output_df.merge(all_IPRS_desc).sort_values(['species', 'corrected pvalue'])\n",
    "overrep_out_file = \"all_species_overrep_domains.tsv\"\n",
    "summary_out_file = 'summary_by_sp.tsv'\n",
    "print(\"Writing output files\")\n",
    "combined_output_df.to_csv(overrep_out_file, sep=\"\\t\", index=False)\n",
    "summary_by_sp.to_csv(summary_out_file, sep=\"\\t\", index=False)"
   ]
  },
  {
   "cell_type": "code",
   "execution_count": 13,
   "id": "0f8a0663",
   "metadata": {},
   "outputs": [
    {
     "data": {
      "text/html": [
       "<div>\n",
       "<style scoped>\n",
       "    .dataframe tbody tr th:only-of-type {\n",
       "        vertical-align: middle;\n",
       "    }\n",
       "\n",
       "    .dataframe tbody tr th {\n",
       "        vertical-align: top;\n",
       "    }\n",
       "\n",
       "    .dataframe thead th {\n",
       "        text-align: right;\n",
       "    }\n",
       "</style>\n",
       "<table border=\"1\" class=\"dataframe\">\n",
       "  <thead>\n",
       "    <tr style=\"text-align: right;\">\n",
       "      <th></th>\n",
       "      <th>IPR_id</th>\n",
       "      <th>species</th>\n",
       "      <th>description</th>\n",
       "    </tr>\n",
       "  </thead>\n",
       "  <tbody>\n",
       "    <tr>\n",
       "      <th>0</th>\n",
       "      <td>IPR013783</td>\n",
       "      <td>7</td>\n",
       "      <td>Immunoglobulin-like fold</td>\n",
       "    </tr>\n",
       "    <tr>\n",
       "      <th>1</th>\n",
       "      <td>IPR000742</td>\n",
       "      <td>6</td>\n",
       "      <td>EGF-like domain</td>\n",
       "    </tr>\n",
       "    <tr>\n",
       "      <th>2</th>\n",
       "      <td>IPR012337</td>\n",
       "      <td>6</td>\n",
       "      <td>Ribonuclease H-like superfamily</td>\n",
       "    </tr>\n",
       "    <tr>\n",
       "      <th>3</th>\n",
       "      <td>IPR013032</td>\n",
       "      <td>6</td>\n",
       "      <td>EGF-like, conserved site</td>\n",
       "    </tr>\n",
       "    <tr>\n",
       "      <th>4</th>\n",
       "      <td>IPR009057</td>\n",
       "      <td>5</td>\n",
       "      <td>Homeobox-like domain superfamily</td>\n",
       "    </tr>\n",
       "    <tr>\n",
       "      <th>...</th>\n",
       "      <td>...</td>\n",
       "      <td>...</td>\n",
       "      <td>...</td>\n",
       "    </tr>\n",
       "    <tr>\n",
       "      <th>143</th>\n",
       "      <td>IPR011029</td>\n",
       "      <td>1</td>\n",
       "      <td>Death-like domain superfamily</td>\n",
       "    </tr>\n",
       "    <tr>\n",
       "      <th>144</th>\n",
       "      <td>IPR009017</td>\n",
       "      <td>1</td>\n",
       "      <td>Green fluorescent protein</td>\n",
       "    </tr>\n",
       "    <tr>\n",
       "      <th>145</th>\n",
       "      <td>IPR008984</td>\n",
       "      <td>1</td>\n",
       "      <td>SMAD/FHA domain superfamily</td>\n",
       "    </tr>\n",
       "    <tr>\n",
       "      <th>146</th>\n",
       "      <td>IPR008936</td>\n",
       "      <td>1</td>\n",
       "      <td>Rho GTPase activation protein</td>\n",
       "    </tr>\n",
       "    <tr>\n",
       "      <th>147</th>\n",
       "      <td>IPR043211</td>\n",
       "      <td>1</td>\n",
       "      <td>TNF receptor-associated factor TRAF</td>\n",
       "    </tr>\n",
       "  </tbody>\n",
       "</table>\n",
       "<p>148 rows × 3 columns</p>\n",
       "</div>"
      ],
      "text/plain": [
       "        IPR_id  species                          description\n",
       "0    IPR013783        7             Immunoglobulin-like fold\n",
       "1    IPR000742        6                      EGF-like domain\n",
       "2    IPR012337        6      Ribonuclease H-like superfamily\n",
       "3    IPR013032        6             EGF-like, conserved site\n",
       "4    IPR009057        5     Homeobox-like domain superfamily\n",
       "..         ...      ...                                  ...\n",
       "143  IPR011029        1        Death-like domain superfamily\n",
       "144  IPR009017        1            Green fluorescent protein\n",
       "145  IPR008984        1          SMAD/FHA domain superfamily\n",
       "146  IPR008936        1        Rho GTPase activation protein\n",
       "147  IPR043211        1  TNF receptor-associated factor TRAF\n",
       "\n",
       "[148 rows x 3 columns]"
      ]
     },
     "execution_count": 13,
     "metadata": {},
     "output_type": "execute_result"
    }
   ],
   "source": [
    "### Count number of species for each significant IPR domain\n",
    "sp_count = combined_output_df[['IPR_id', 'species']].groupby('IPR_id').count().reset_index()\n",
    "sp_count = sp_count.sort_values('species', ascending=False)\n",
    "sp_count = sp_count.merge(all_IPRS_desc)\n",
    "sp_count"
   ]
  },
  {
   "cell_type": "code",
   "execution_count": 16,
   "id": "dd76d7a9",
   "metadata": {
    "collapsed": true
   },
   "outputs": [],
   "source": [
    "sp_count.to_csv('sp_counts_avg.tsv', sep=\"\\t\", index=False)"
   ]
  },
  {
   "cell_type": "markdown",
   "id": "0f8af18b",
   "metadata": {},
   "source": [
    "### Use mean + std_dev as threshold"
   ]
  },
  {
   "cell_type": "code",
   "execution_count": 17,
   "id": "b19bf4cf",
   "metadata": {
    "collapsed": true
   },
   "outputs": [],
   "source": [
    "import os"
   ]
  },
  {
   "cell_type": "code",
   "execution_count": 18,
   "id": "5d7196c3",
   "metadata": {},
   "outputs": [
    {
     "name": "stdout",
     "output_type": "stream",
     "text": [
      "['hsym', 'hvul', 'pdam', 'ofav', 'epal', 'mvir', 'spis', 'chem', 'dgig', 'nvec', 'aaur', 'adig', 'aten']\n",
      "hsym\n",
      "Testing:  1054 distinct IPRs\n",
      "cne threshold: 2.647269734280448\n",
      "Number of significant IPRs:  2\n",
      "hvul\n",
      "Testing:  452 distinct IPRs\n",
      "cne threshold: 1.648064144702686\n"
     ]
    },
    {
     "name": "stderr",
     "output_type": "stream",
     "text": [
      "/var/folders/7d/1vz75qmd7kn8tg41dhcpk_6cxm7gww/T/ipykernel_65871/1313116285.py:55: FutureWarning: The frame.append method is deprecated and will be removed from pandas in a future version. Use pandas.concat instead.\n",
      "  combined_output_df = combined_output_df.append(pval_df)\n"
     ]
    },
    {
     "name": "stdout",
     "output_type": "stream",
     "text": [
      "Number of significant IPRs:  2\n",
      "pdam\n",
      "Testing:  1843 distinct IPRs\n",
      "cne threshold: 11.065956549206742\n"
     ]
    },
    {
     "name": "stderr",
     "output_type": "stream",
     "text": [
      "/var/folders/7d/1vz75qmd7kn8tg41dhcpk_6cxm7gww/T/ipykernel_65871/1313116285.py:55: FutureWarning: The frame.append method is deprecated and will be removed from pandas in a future version. Use pandas.concat instead.\n",
      "  combined_output_df = combined_output_df.append(pval_df)\n"
     ]
    },
    {
     "name": "stdout",
     "output_type": "stream",
     "text": [
      "Number of significant IPRs:  42\n",
      "ofav\n",
      "Testing:  1306 distinct IPRs\n",
      "cne threshold: 7.577158735625564\n"
     ]
    },
    {
     "name": "stderr",
     "output_type": "stream",
     "text": [
      "/var/folders/7d/1vz75qmd7kn8tg41dhcpk_6cxm7gww/T/ipykernel_65871/1313116285.py:55: FutureWarning: The frame.append method is deprecated and will be removed from pandas in a future version. Use pandas.concat instead.\n",
      "  combined_output_df = combined_output_df.append(pval_df)\n"
     ]
    },
    {
     "name": "stdout",
     "output_type": "stream",
     "text": [
      "Number of significant IPRs:  10\n",
      "epal\n",
      "Testing:  530 distinct IPRs\n",
      "cne threshold: 2.7894647174250355\n"
     ]
    },
    {
     "name": "stderr",
     "output_type": "stream",
     "text": [
      "/var/folders/7d/1vz75qmd7kn8tg41dhcpk_6cxm7gww/T/ipykernel_65871/1313116285.py:55: FutureWarning: The frame.append method is deprecated and will be removed from pandas in a future version. Use pandas.concat instead.\n",
      "  combined_output_df = combined_output_df.append(pval_df)\n"
     ]
    },
    {
     "name": "stdout",
     "output_type": "stream",
     "text": [
      "Number of significant IPRs:  9\n",
      "mvir\n",
      "Testing:  249 distinct IPRs\n",
      "cne threshold: 2.2494988865182712\n"
     ]
    },
    {
     "name": "stderr",
     "output_type": "stream",
     "text": [
      "/var/folders/7d/1vz75qmd7kn8tg41dhcpk_6cxm7gww/T/ipykernel_65871/1313116285.py:55: FutureWarning: The frame.append method is deprecated and will be removed from pandas in a future version. Use pandas.concat instead.\n",
      "  combined_output_df = combined_output_df.append(pval_df)\n"
     ]
    },
    {
     "name": "stdout",
     "output_type": "stream",
     "text": [
      "Number of significant IPRs:  1\n",
      "spis\n",
      "Testing:  2095 distinct IPRs\n",
      "cne threshold: 11.265647422038942\n"
     ]
    },
    {
     "name": "stderr",
     "output_type": "stream",
     "text": [
      "/var/folders/7d/1vz75qmd7kn8tg41dhcpk_6cxm7gww/T/ipykernel_65871/1313116285.py:55: FutureWarning: The frame.append method is deprecated and will be removed from pandas in a future version. Use pandas.concat instead.\n",
      "  combined_output_df = combined_output_df.append(pval_df)\n"
     ]
    },
    {
     "name": "stdout",
     "output_type": "stream",
     "text": [
      "Number of significant IPRs:  63\n",
      "chem\n",
      "Testing:  421 distinct IPRs\n",
      "cne threshold: 1.8311935437612146\n"
     ]
    },
    {
     "name": "stderr",
     "output_type": "stream",
     "text": [
      "/var/folders/7d/1vz75qmd7kn8tg41dhcpk_6cxm7gww/T/ipykernel_65871/1313116285.py:55: FutureWarning: The frame.append method is deprecated and will be removed from pandas in a future version. Use pandas.concat instead.\n",
      "  combined_output_df = combined_output_df.append(pval_df)\n"
     ]
    },
    {
     "name": "stdout",
     "output_type": "stream",
     "text": [
      "Number of significant IPRs:  3\n",
      "dgig\n",
      "Testing:  342 distinct IPRs\n",
      "cne threshold: 2.7892938989639564\n"
     ]
    },
    {
     "name": "stderr",
     "output_type": "stream",
     "text": [
      "/var/folders/7d/1vz75qmd7kn8tg41dhcpk_6cxm7gww/T/ipykernel_65871/1313116285.py:55: FutureWarning: The frame.append method is deprecated and will be removed from pandas in a future version. Use pandas.concat instead.\n",
      "  combined_output_df = combined_output_df.append(pval_df)\n"
     ]
    },
    {
     "name": "stdout",
     "output_type": "stream",
     "text": [
      "Number of significant IPRs:  7\n",
      "nvec\n",
      "Testing:  383 distinct IPRs\n",
      "cne threshold: 2.838551148889957\n"
     ]
    },
    {
     "name": "stderr",
     "output_type": "stream",
     "text": [
      "/var/folders/7d/1vz75qmd7kn8tg41dhcpk_6cxm7gww/T/ipykernel_65871/1313116285.py:55: FutureWarning: The frame.append method is deprecated and will be removed from pandas in a future version. Use pandas.concat instead.\n",
      "  combined_output_df = combined_output_df.append(pval_df)\n"
     ]
    },
    {
     "name": "stdout",
     "output_type": "stream",
     "text": [
      "Number of significant IPRs:  2\n",
      "aaur\n",
      "Testing:  401 distinct IPRs\n",
      "cne threshold: 1.6163622406187954\n"
     ]
    },
    {
     "name": "stderr",
     "output_type": "stream",
     "text": [
      "/var/folders/7d/1vz75qmd7kn8tg41dhcpk_6cxm7gww/T/ipykernel_65871/1313116285.py:55: FutureWarning: The frame.append method is deprecated and will be removed from pandas in a future version. Use pandas.concat instead.\n",
      "  combined_output_df = combined_output_df.append(pval_df)\n"
     ]
    },
    {
     "name": "stdout",
     "output_type": "stream",
     "text": [
      "Number of significant IPRs:  1\n",
      "adig\n",
      "Testing:  1053 distinct IPRs\n",
      "cne threshold: 7.976278949160756\n"
     ]
    },
    {
     "name": "stderr",
     "output_type": "stream",
     "text": [
      "/var/folders/7d/1vz75qmd7kn8tg41dhcpk_6cxm7gww/T/ipykernel_65871/1313116285.py:55: FutureWarning: The frame.append method is deprecated and will be removed from pandas in a future version. Use pandas.concat instead.\n",
      "  combined_output_df = combined_output_df.append(pval_df)\n"
     ]
    },
    {
     "name": "stdout",
     "output_type": "stream",
     "text": [
      "Number of significant IPRs:  32\n",
      "aten\n",
      "Testing:  646 distinct IPRs\n",
      "cne threshold: 2.5386674499418076\n"
     ]
    },
    {
     "name": "stderr",
     "output_type": "stream",
     "text": [
      "/var/folders/7d/1vz75qmd7kn8tg41dhcpk_6cxm7gww/T/ipykernel_65871/1313116285.py:55: FutureWarning: The frame.append method is deprecated and will be removed from pandas in a future version. Use pandas.concat instead.\n",
      "  combined_output_df = combined_output_df.append(pval_df)\n"
     ]
    },
    {
     "name": "stdout",
     "output_type": "stream",
     "text": [
      "Number of significant IPRs:  3\n",
      "Writing output files\n"
     ]
    },
    {
     "name": "stderr",
     "output_type": "stream",
     "text": [
      "/var/folders/7d/1vz75qmd7kn8tg41dhcpk_6cxm7gww/T/ipykernel_65871/1313116285.py:55: FutureWarning: The frame.append method is deprecated and will be removed from pandas in a future version. Use pandas.concat instead.\n",
      "  combined_output_df = combined_output_df.append(pval_df)\n"
     ]
    }
   ],
   "source": [
    "out_dir = \"avg_stdev/\"\n",
    "os.mkdir(out_dir)\n",
    "combined_output_df = pd.DataFrame()\n",
    "summary_by_sp = pd.DataFrame(columns=['species', 'cne_count', 'gene_count', 'cne_threshold', \n",
    "                                      'num_IPR_tested', 'num_sig_IPRs', 'num_homeo'])\n",
    "sp_list = list(set(closest_genes_df['species']))\n",
    "print(sp_list)\n",
    "for species in sp_list:\n",
    "    print(species)\n",
    "    sp_df = closest_genes_df[closest_genes_df['species'] == species]\n",
    "    sp_df = sp_df.groupby('gene_id').sum().reset_index() \n",
    "    merged_sp_df = gene_IPR_df[gene_IPR_df['species'] == species].merge(sp_df, how='left')\n",
    "    merged_sp_df['closest_cne_count'] = merged_sp_df['closest_cne_count'].fillna(value=0)\n",
    "    #total_genes = len(gene_IPR_df[gene_IPR_df['species'] == species]['gene_id'].unique())\n",
    "    #total_cnes = sum(sp_df['closest_cne_count'])\n",
    "    mean_cne = statistics.mean(list(sp_df['closest_cne_count']))\n",
    "    stdev_cne =  statistics.stdev(list(sp_df['closest_cne_count']))\n",
    "    cne_threshold = mean_cne + stdev_cne\n",
    "    #cne_threshold = total_cnes/total_genes # mean cne count per gene in genome\n",
    "    with_CNE_df = merged_sp_df[merged_sp_df['closest_cne_count'] > cne_threshold]\n",
    "    # genes with low CNEs not containing protein domain\n",
    "    without_CNE_df = merged_sp_df[merged_sp_df['closest_cne_count'] <= cne_threshold]\n",
    "    gene_count_wCNE = len(with_CNE_df['gene_id'].unique())\n",
    "    gene_count_noCNE = len(without_CNE_df['gene_id'].unique())\n",
    "    test_IPRs = list(with_CNE_df['IPR_id'].unique())\n",
    "    print(\"Testing: \", len(test_IPRs), \"distinct IPRs\")\n",
    "    print(\"cne threshold:\", cne_threshold)\n",
    "    pvalues = []\n",
    "    for test_IPR in test_IPRs:\n",
    "        #print(IPR_id)\n",
    "        # genes with high CNEs and containing protein domain\n",
    "        gene_count_wCNE_wIPR = len(with_CNE_df[with_CNE_df['IPR_id'] == test_IPR]['gene_id'].unique())\n",
    "        # genes with high CNEs not containing protein domain\n",
    "        gene_count_wCNE_noIPR = gene_count_wCNE - gene_count_wCNE_wIPR\n",
    "        # genes with low CNEs and containing protein domain\n",
    "        gene_count_noCNE_wIPR = len(without_CNE_df[without_CNE_df['IPR_id'] == test_IPR]['gene_id'].unique())\n",
    "        gene_count_noCNE_noIPR = gene_count_noCNE - gene_count_noCNE_wIPR\n",
    "        # Make contingency table for Fisher test\n",
    "        cont_matrix = [[gene_count_wCNE_wIPR, gene_count_wCNE_noIPR], [gene_count_noCNE_wIPR, gene_count_noCNE_noIPR]]\n",
    "        # Run test\n",
    "        oddsratio, pvalue = stats.fisher_exact(cont_matrix, alternative = 'greater')\n",
    "        pvalues.append(pvalue)\n",
    "    # Bonferroni pvalue corrrection\n",
    "    padj = [pval * len(pvalues) for pval in pvalues]\n",
    "    table = {'IPR_id':test_IPRs, 'pvalue':pvalues, 'corrected pvalue':padj}\n",
    "    pval_df = pd.DataFrame(table)\n",
    "    pval_df = pval_df.sort_values(by = ['corrected pvalue'])\n",
    "    pval_df = pval_df.reset_index(drop = True)\n",
    "    pval_df = pval_df[pval_df['corrected pvalue'] <= 0.05]\n",
    "    ##fisher_results_df = pd.DataFrame(fisher_results.items(), columns=['IPR_id', 'p-value'])\n",
    "    print(\"Number of significant IPRs: \", len(pval_df))\n",
    "    pval_df = pval_df.merge(all_IPRS_desc).sort_values('corrected pvalue')\n",
    "    pval_df['species'] = species\n",
    "    num_homeo = pval_df[\"description\"].str.contains('Homeo').value_counts().get(True, 0)\n",
    "    summary_row = [species, total_cnes, total_genes, cne_threshold, len(test_IPRs), len(pval_df), num_homeo]\n",
    "    summary_by_sp.loc[len(summary_by_sp)] = summary_row\n",
    "    combined_output_df = combined_output_df.append(pval_df)\n",
    "combined_output_df = combined_output_df.merge(all_IPRS_desc).sort_values(['species', 'corrected pvalue'])\n",
    "### Count number of species for each significant IPR domain\n",
    "sp_count = combined_output_df[['IPR_id', 'species']].groupby('IPR_id').count().reset_index()\n",
    "sp_count = sp_count.sort_values('species', ascending=False)\n",
    "sp_count = sp_count.merge(all_IPRS_desc)\n",
    "overrep_out_file = out_dir + \"all_species_overrep_domains.tsv\"\n",
    "summary_out_file = out_dir + 'summary_by_sp.tsv'\n",
    "sp_count_out_file = out_dir + 'sp_counts.tsv' \n",
    "print(\"Writing output files\")\n",
    "combined_output_df.to_csv(overrep_out_file, sep=\"\\t\", index=False)\n",
    "summary_by_sp.to_csv(summary_out_file, sep=\"\\t\", index=False)\n",
    "sp_count.to_csv(sp_count_out_file, sep=\"\\t\", index=False)"
   ]
  },
  {
   "cell_type": "code",
   "execution_count": 19,
   "id": "f88d6d51",
   "metadata": {
    "scrolled": true
   },
   "outputs": [
    {
     "data": {
      "text/html": [
       "<div>\n",
       "<style scoped>\n",
       "    .dataframe tbody tr th:only-of-type {\n",
       "        vertical-align: middle;\n",
       "    }\n",
       "\n",
       "    .dataframe tbody tr th {\n",
       "        vertical-align: top;\n",
       "    }\n",
       "\n",
       "    .dataframe thead th {\n",
       "        text-align: right;\n",
       "    }\n",
       "</style>\n",
       "<table border=\"1\" class=\"dataframe\">\n",
       "  <thead>\n",
       "    <tr style=\"text-align: right;\">\n",
       "      <th></th>\n",
       "      <th>IPR_id</th>\n",
       "      <th>species</th>\n",
       "      <th>description</th>\n",
       "    </tr>\n",
       "  </thead>\n",
       "  <tbody>\n",
       "    <tr>\n",
       "      <th>0</th>\n",
       "      <td>IPR012337</td>\n",
       "      <td>5</td>\n",
       "      <td>Ribonuclease H-like superfamily</td>\n",
       "    </tr>\n",
       "    <tr>\n",
       "      <th>1</th>\n",
       "      <td>IPR009057</td>\n",
       "      <td>4</td>\n",
       "      <td>Homeobox-like domain superfamily</td>\n",
       "    </tr>\n",
       "    <tr>\n",
       "      <th>2</th>\n",
       "      <td>IPR001584</td>\n",
       "      <td>4</td>\n",
       "      <td>Integrase, catalytic core</td>\n",
       "    </tr>\n",
       "    <tr>\n",
       "      <th>3</th>\n",
       "      <td>IPR013783</td>\n",
       "      <td>3</td>\n",
       "      <td>Immunoglobulin-like fold</td>\n",
       "    </tr>\n",
       "    <tr>\n",
       "      <th>4</th>\n",
       "      <td>IPR001356</td>\n",
       "      <td>3</td>\n",
       "      <td>Homeobox domain</td>\n",
       "    </tr>\n",
       "    <tr>\n",
       "      <th>...</th>\n",
       "      <td>...</td>\n",
       "      <td>...</td>\n",
       "      <td>...</td>\n",
       "    </tr>\n",
       "    <tr>\n",
       "      <th>106</th>\n",
       "      <td>IPR019080</td>\n",
       "      <td>1</td>\n",
       "      <td>YqaJ viral recombinase</td>\n",
       "    </tr>\n",
       "    <tr>\n",
       "      <th>107</th>\n",
       "      <td>IPR002219</td>\n",
       "      <td>1</td>\n",
       "      <td>Protein kinase C-like, phorbol ester/diacylgly...</td>\n",
       "    </tr>\n",
       "    <tr>\n",
       "      <th>108</th>\n",
       "      <td>IPR018161</td>\n",
       "      <td>1</td>\n",
       "      <td>Wnt protein, conserved site</td>\n",
       "    </tr>\n",
       "    <tr>\n",
       "      <th>109</th>\n",
       "      <td>IPR018159</td>\n",
       "      <td>1</td>\n",
       "      <td>Spectrin/alpha-actinin</td>\n",
       "    </tr>\n",
       "    <tr>\n",
       "      <th>110</th>\n",
       "      <td>IPR043157</td>\n",
       "      <td>1</td>\n",
       "      <td>Dynein heavy chain, AAA1 domain, small subdomain</td>\n",
       "    </tr>\n",
       "  </tbody>\n",
       "</table>\n",
       "<p>111 rows × 3 columns</p>\n",
       "</div>"
      ],
      "text/plain": [
       "        IPR_id  species                                        description\n",
       "0    IPR012337        5                    Ribonuclease H-like superfamily\n",
       "1    IPR009057        4                   Homeobox-like domain superfamily\n",
       "2    IPR001584        4                          Integrase, catalytic core\n",
       "3    IPR013783        3                           Immunoglobulin-like fold\n",
       "4    IPR001356        3                                    Homeobox domain\n",
       "..         ...      ...                                                ...\n",
       "106  IPR019080        1                             YqaJ viral recombinase\n",
       "107  IPR002219        1  Protein kinase C-like, phorbol ester/diacylgly...\n",
       "108  IPR018161        1                        Wnt protein, conserved site\n",
       "109  IPR018159        1                             Spectrin/alpha-actinin\n",
       "110  IPR043157        1   Dynein heavy chain, AAA1 domain, small subdomain\n",
       "\n",
       "[111 rows x 3 columns]"
      ]
     },
     "execution_count": 19,
     "metadata": {},
     "output_type": "execute_result"
    }
   ],
   "source": [
    "sp_count"
   ]
  },
  {
   "cell_type": "markdown",
   "id": "f2a71263",
   "metadata": {},
   "source": [
    "### Run tests separately for CNEs of each node of origin"
   ]
  },
  {
   "cell_type": "code",
   "execution_count": 16,
   "id": "a5bf0861",
   "metadata": {
    "scrolled": true
   },
   "outputs": [
    {
     "ename": "NameError",
     "evalue": "name 'os' is not defined",
     "output_type": "error",
     "traceback": [
      "\u001b[0;31m---------------------------------------------------------------------------\u001b[0m",
      "\u001b[0;31mNameError\u001b[0m                                 Traceback (most recent call last)",
      "\u001b[0;32m<ipython-input-16-eb1bf45a7575>\u001b[0m in \u001b[0;36m<module>\u001b[0;34m()\u001b[0m\n\u001b[1;32m      1\u001b[0m \u001b[0mout_dir\u001b[0m \u001b[0;34m=\u001b[0m \u001b[0;34m\"by_node_avg/\"\u001b[0m\u001b[0;34m\u001b[0m\u001b[0;34m\u001b[0m\u001b[0m\n\u001b[0;32m----> 2\u001b[0;31m \u001b[0mos\u001b[0m\u001b[0;34m.\u001b[0m\u001b[0mmkdir\u001b[0m\u001b[0;34m(\u001b[0m\u001b[0mout_dir\u001b[0m\u001b[0;34m)\u001b[0m\u001b[0;34m\u001b[0m\u001b[0;34m\u001b[0m\u001b[0m\n\u001b[0m\u001b[1;32m      3\u001b[0m summary_by_node = pd.DataFrame(columns=['node', 'species', 'cne_count', 'gene_count', 'cne_threshold', \n\u001b[1;32m      4\u001b[0m                                       'num_IPR_tested', 'num_sig_IPRs', 'num_homeo'])\n\u001b[1;32m      5\u001b[0m \u001b[0mall_nodes_output_df\u001b[0m \u001b[0;34m=\u001b[0m \u001b[0mpd\u001b[0m\u001b[0;34m.\u001b[0m\u001b[0mDataFrame\u001b[0m\u001b[0;34m(\u001b[0m\u001b[0;34m)\u001b[0m\u001b[0;34m\u001b[0m\u001b[0;34m\u001b[0m\u001b[0m\n",
      "\u001b[0;31mNameError\u001b[0m: name 'os' is not defined"
     ]
    }
   ],
   "source": [
    "out_dir = \"by_node_avg/\"\n",
    "os.mkdir(out_dir)\n",
    "summary_by_node = pd.DataFrame(columns=['node', 'species', 'cne_count', 'gene_count', 'cne_threshold', \n",
    "                                      'num_IPR_tested', 'num_sig_IPRs', 'num_homeo'])\n",
    "all_nodes_output_df = pd.DataFrame()\n",
    "for node in list(set(closest_genes_df['cne_node'])):\n",
    "    print(node)\n",
    "    node_out_df = pd.DataFrame()\n",
    "    node_cne_count_df = closest_genes_df[closest_genes_df['cne_node'] == node]\n",
    "    node_sp_list = list(set(node_cne_count_df['species']))\n",
    "    print(node_sp_list)\n",
    "    for species in node_sp_list:\n",
    "        print(species)\n",
    "        node_sp_df = node_cne_count_df[node_cne_count_df['species'] == species]\n",
    "        node_sp_df = node_sp_df.groupby('gene_id').sum().reset_index() \n",
    "        merged_sp_df = gene_IPR_df[gene_IPR_df['species'] == species].merge(node_sp_df, how='left')\n",
    "        merged_sp_df['closest_cne_count'] = merged_sp_df['closest_cne_count'].fillna(value=0)\n",
    "        total_genes = len(gene_IPR_df[gene_IPR_df['species'] == species]['gene_id'].unique())\n",
    "        total_cnes = sum(node_sp_df['closest_cne_count'])\n",
    "        mean_cne = statistics.mean(list(node_sp_df['closest_cne_count']))\n",
    "        #stdev_cne =  statistics.stdev(list(node_sp_df['closest_cne_count']))\n",
    "        cne_threshold = mean_cne #+ stdev_cne\n",
    "        with_CNE_df = merged_sp_df[merged_sp_df['closest_cne_count'] > cne_threshold]\n",
    "        without_CNE_df = merged_sp_df[merged_sp_df['closest_cne_count'] <= cne_threshold]\n",
    "        gene_count_wCNE = len(with_CNE_df['gene_id'].unique())\n",
    "        gene_count_noCNE = len(without_CNE_df['gene_id'].unique())\n",
    "        test_IPRs = list(with_CNE_df['IPR_id'].unique())\n",
    "        print(\"Testing: \", len(test_IPRs), \"distinct IPRs\")\n",
    "        print(\"cne threshold:\", cne_threshold)\n",
    "        pvalues = []\n",
    "        for test_IPR in test_IPRs:\n",
    "            gene_count_wCNE_wIPR = len(with_CNE_df[with_CNE_df['IPR_id'] == test_IPR]['gene_id'].unique())\n",
    "            gene_count_wCNE_noIPR = gene_count_wCNE - gene_count_wCNE_wIPR\n",
    "            gene_count_noCNE_wIPR = len(without_CNE_df[without_CNE_df['IPR_id'] == test_IPR]['gene_id'].unique())\n",
    "            gene_count_noCNE_noIPR = gene_count_noCNE - gene_count_noCNE_wIPR\n",
    "            # Make contingency table for Fisher test\n",
    "            cont_matrix = [[gene_count_wCNE_wIPR, gene_count_wCNE_noIPR], [gene_count_noCNE_wIPR, gene_count_noCNE_noIPR]]\n",
    "            # Run test\n",
    "            oddsratio, pvalue = stats.fisher_exact(cont_matrix, alternative = 'greater')\n",
    "            pvalues.append(pvalue)\n",
    "        padj = [pval * len(pvalues) for pval in pvalues]\n",
    "        table = {'IPR_id':test_IPRs, 'pvalue':pvalues, 'corrected pvalue':padj}\n",
    "        pval_df = pd.DataFrame(table)\n",
    "        pval_df = pval_df.sort_values(by = ['corrected pvalue'])\n",
    "        pval_df = pval_df.reset_index(drop = True)\n",
    "        pval_df = pval_df[pval_df['corrected pvalue'] <= 0.05]\n",
    "        pval_df['node'] = node\n",
    "        pval_df['species'] = species\n",
    "        pval_df = pval_df.merge(all_IPRS_desc)\n",
    "        node_out_df = node_out_df.append(pval_df)\n",
    "        summary_stats = [total_cnes, total_genes, cne_threshold, len(test_IPRs), len(pval_df)]\n",
    "        num_homeo = pval_df[\"description\"].str.contains('Homeo').value_counts().get(True, 0)\n",
    "        summary_row = [node, species] + summary_stats + [num_homeo]\n",
    "        summary_by_node.loc[len(summary_by_node)] = summary_row\n",
    "    if len(node_out_df)>0:\n",
    "        all_nodes_output_df = all_nodes_output_df.append(node_out_df)\n",
    "        out_file = out_dir + node + \"_overrep_domains.tsv\"\n",
    "        print(\"Writing file: \", out_file)\n",
    "        node_out_df.to_csv(out_file, sep=\"\\t\", index=False)\n",
    "    else:\n",
    "        print(\"This node has no significant IPRs\")\n",
    "summary_by_node.to_csv(out_dir + 'summary_by_node.tsv', sep=\"\\t\", index=False)   "
   ]
  },
  {
   "cell_type": "code",
   "execution_count": 21,
   "id": "588aed39",
   "metadata": {},
   "outputs": [
    {
     "data": {
      "text/html": [
       "<div>\n",
       "<style scoped>\n",
       "    .dataframe tbody tr th:only-of-type {\n",
       "        vertical-align: middle;\n",
       "    }\n",
       "\n",
       "    .dataframe tbody tr th {\n",
       "        vertical-align: top;\n",
       "    }\n",
       "\n",
       "    .dataframe thead th {\n",
       "        text-align: right;\n",
       "    }\n",
       "</style>\n",
       "<table border=\"1\" class=\"dataframe\">\n",
       "  <thead>\n",
       "    <tr style=\"text-align: right;\">\n",
       "      <th></th>\n",
       "      <th>IPR_id</th>\n",
       "      <th>pvalue</th>\n",
       "      <th>corrected pvalue</th>\n",
       "      <th>node</th>\n",
       "      <th>species</th>\n",
       "      <th>description</th>\n",
       "    </tr>\n",
       "  </thead>\n",
       "  <tbody>\n",
       "    <tr>\n",
       "      <th>0</th>\n",
       "      <td>IPR018972</td>\n",
       "      <td>8.627736e-04</td>\n",
       "      <td>0.035374</td>\n",
       "      <td>medusozoa</td>\n",
       "      <td>hsym</td>\n",
       "      <td>Sas10 C-terminal domain</td>\n",
       "    </tr>\n",
       "    <tr>\n",
       "      <th>1</th>\n",
       "      <td>IPR011274</td>\n",
       "      <td>8.627736e-04</td>\n",
       "      <td>0.035374</td>\n",
       "      <td>medusozoa</td>\n",
       "      <td>hsym</td>\n",
       "      <td>Malate dehydrogenase, NAD-dependent, cytosolic</td>\n",
       "    </tr>\n",
       "    <tr>\n",
       "      <th>0</th>\n",
       "      <td>IPR039039</td>\n",
       "      <td>9.971084e-05</td>\n",
       "      <td>0.000100</td>\n",
       "      <td>medusozoa</td>\n",
       "      <td>hvul</td>\n",
       "      <td>RAI1-like family</td>\n",
       "    </tr>\n",
       "    <tr>\n",
       "      <th>0</th>\n",
       "      <td>IPR004114</td>\n",
       "      <td>5.354642e-04</td>\n",
       "      <td>0.019277</td>\n",
       "      <td>medusozoa</td>\n",
       "      <td>mvir</td>\n",
       "      <td>THUMP domain</td>\n",
       "    </tr>\n",
       "    <tr>\n",
       "      <th>1</th>\n",
       "      <td>IPR032157</td>\n",
       "      <td>5.354642e-04</td>\n",
       "      <td>0.019277</td>\n",
       "      <td>medusozoa</td>\n",
       "      <td>mvir</td>\n",
       "      <td>Proteasome assembly chaperone 4</td>\n",
       "    </tr>\n",
       "    <tr>\n",
       "      <th>...</th>\n",
       "      <td>...</td>\n",
       "      <td>...</td>\n",
       "      <td>...</td>\n",
       "      <td>...</td>\n",
       "      <td>...</td>\n",
       "      <td>...</td>\n",
       "    </tr>\n",
       "    <tr>\n",
       "      <th>7</th>\n",
       "      <td>IPR009017</td>\n",
       "      <td>6.778604e-08</td>\n",
       "      <td>0.000140</td>\n",
       "      <td>scleractinia</td>\n",
       "      <td>pdam</td>\n",
       "      <td>Green fluorescent protein</td>\n",
       "    </tr>\n",
       "    <tr>\n",
       "      <th>8</th>\n",
       "      <td>IPR011584</td>\n",
       "      <td>8.675076e-08</td>\n",
       "      <td>0.000179</td>\n",
       "      <td>scleractinia</td>\n",
       "      <td>pdam</td>\n",
       "      <td>Green fluorescent protein-related</td>\n",
       "    </tr>\n",
       "    <tr>\n",
       "      <th>9</th>\n",
       "      <td>IPR000152</td>\n",
       "      <td>8.925305e-08</td>\n",
       "      <td>0.000184</td>\n",
       "      <td>scleractinia</td>\n",
       "      <td>pdam</td>\n",
       "      <td>EGF-type aspartate/asparagine hydroxylation site</td>\n",
       "    </tr>\n",
       "    <tr>\n",
       "      <th>10</th>\n",
       "      <td>IPR020479</td>\n",
       "      <td>1.854090e-06</td>\n",
       "      <td>0.003819</td>\n",
       "      <td>scleractinia</td>\n",
       "      <td>pdam</td>\n",
       "      <td>Homeobox domain, metazoa</td>\n",
       "    </tr>\n",
       "    <tr>\n",
       "      <th>11</th>\n",
       "      <td>IPR024731</td>\n",
       "      <td>1.060038e-05</td>\n",
       "      <td>0.021837</td>\n",
       "      <td>scleractinia</td>\n",
       "      <td>pdam</td>\n",
       "      <td>EGF domain</td>\n",
       "    </tr>\n",
       "  </tbody>\n",
       "</table>\n",
       "<p>532 rows × 6 columns</p>\n",
       "</div>"
      ],
      "text/plain": [
       "       IPR_id        pvalue  corrected pvalue          node species  \\\n",
       "0   IPR018972  8.627736e-04          0.035374     medusozoa    hsym   \n",
       "1   IPR011274  8.627736e-04          0.035374     medusozoa    hsym   \n",
       "0   IPR039039  9.971084e-05          0.000100     medusozoa    hvul   \n",
       "0   IPR004114  5.354642e-04          0.019277     medusozoa    mvir   \n",
       "1   IPR032157  5.354642e-04          0.019277     medusozoa    mvir   \n",
       "..        ...           ...               ...           ...     ...   \n",
       "7   IPR009017  6.778604e-08          0.000140  scleractinia    pdam   \n",
       "8   IPR011584  8.675076e-08          0.000179  scleractinia    pdam   \n",
       "9   IPR000152  8.925305e-08          0.000184  scleractinia    pdam   \n",
       "10  IPR020479  1.854090e-06          0.003819  scleractinia    pdam   \n",
       "11  IPR024731  1.060038e-05          0.021837  scleractinia    pdam   \n",
       "\n",
       "                                         description  \n",
       "0                            Sas10 C-terminal domain  \n",
       "1     Malate dehydrogenase, NAD-dependent, cytosolic  \n",
       "0                                   RAI1-like family  \n",
       "0                                       THUMP domain  \n",
       "1                    Proteasome assembly chaperone 4  \n",
       "..                                               ...  \n",
       "7                          Green fluorescent protein  \n",
       "8                  Green fluorescent protein-related  \n",
       "9   EGF-type aspartate/asparagine hydroxylation site  \n",
       "10                          Homeobox domain, metazoa  \n",
       "11                                        EGF domain  \n",
       "\n",
       "[532 rows x 6 columns]"
      ]
     },
     "execution_count": 21,
     "metadata": {},
     "output_type": "execute_result"
    }
   ],
   "source": [
    "all_nodes_output_df"
   ]
  },
  {
   "cell_type": "code",
   "execution_count": 22,
   "id": "41773238",
   "metadata": {},
   "outputs": [
    {
     "data": {
      "text/plain": [
       "'by_node_avg/'"
      ]
     },
     "execution_count": 22,
     "metadata": {},
     "output_type": "execute_result"
    }
   ],
   "source": [
    "out_dir"
   ]
  },
  {
   "cell_type": "code",
   "execution_count": 23,
   "id": "ebf65ee5",
   "metadata": {
    "collapsed": true
   },
   "outputs": [],
   "source": [
    "all_nodes_output_df.to_csv(out_dir + \"all_nodes_output_df.tsv\", sep=\"\\t\", index=False)"
   ]
  },
  {
   "cell_type": "markdown",
   "id": "a8ee0c32",
   "metadata": {
    "collapsed": true
   },
   "source": [
    "#### Aggregate results by number of nodes"
   ]
  },
  {
   "cell_type": "code",
   "execution_count": 24,
   "id": "de77151f",
   "metadata": {
    "scrolled": true
   },
   "outputs": [
    {
     "data": {
      "text/html": [
       "<div>\n",
       "<style scoped>\n",
       "    .dataframe tbody tr th:only-of-type {\n",
       "        vertical-align: middle;\n",
       "    }\n",
       "\n",
       "    .dataframe tbody tr th {\n",
       "        vertical-align: top;\n",
       "    }\n",
       "\n",
       "    .dataframe thead th {\n",
       "        text-align: right;\n",
       "    }\n",
       "</style>\n",
       "<table border=\"1\" class=\"dataframe\">\n",
       "  <thead>\n",
       "    <tr style=\"text-align: right;\">\n",
       "      <th></th>\n",
       "      <th>IPR_id</th>\n",
       "      <th>node_count</th>\n",
       "      <th>description</th>\n",
       "    </tr>\n",
       "  </thead>\n",
       "  <tbody>\n",
       "    <tr>\n",
       "      <th>0</th>\n",
       "      <td>IPR012337</td>\n",
       "      <td>6</td>\n",
       "      <td>Ribonuclease H-like superfamily</td>\n",
       "    </tr>\n",
       "    <tr>\n",
       "      <th>1</th>\n",
       "      <td>IPR007110</td>\n",
       "      <td>6</td>\n",
       "      <td>Immunoglobulin-like domain</td>\n",
       "    </tr>\n",
       "    <tr>\n",
       "      <th>2</th>\n",
       "      <td>IPR036179</td>\n",
       "      <td>6</td>\n",
       "      <td>Immunoglobulin-like domain superfamily</td>\n",
       "    </tr>\n",
       "    <tr>\n",
       "      <th>3</th>\n",
       "      <td>IPR003598</td>\n",
       "      <td>6</td>\n",
       "      <td>Immunoglobulin subtype 2</td>\n",
       "    </tr>\n",
       "    <tr>\n",
       "      <th>4</th>\n",
       "      <td>IPR036397</td>\n",
       "      <td>5</td>\n",
       "      <td>Ribonuclease H superfamily</td>\n",
       "    </tr>\n",
       "    <tr>\n",
       "      <th>...</th>\n",
       "      <td>...</td>\n",
       "      <td>...</td>\n",
       "      <td>...</td>\n",
       "    </tr>\n",
       "    <tr>\n",
       "      <th>225</th>\n",
       "      <td>IPR016035</td>\n",
       "      <td>1</td>\n",
       "      <td>Acyl transferase/acyl hydrolase/lysophospholipase</td>\n",
       "    </tr>\n",
       "    <tr>\n",
       "      <th>226</th>\n",
       "      <td>IPR016072</td>\n",
       "      <td>1</td>\n",
       "      <td>SKP1 component, dimerisation</td>\n",
       "    </tr>\n",
       "    <tr>\n",
       "      <th>227</th>\n",
       "      <td>IPR016255</td>\n",
       "      <td>1</td>\n",
       "      <td>eIF-2-alpha kinase Gcn2</td>\n",
       "    </tr>\n",
       "    <tr>\n",
       "      <th>228</th>\n",
       "      <td>IPR016897</td>\n",
       "      <td>1</td>\n",
       "      <td>S-phase kinase-associated protein 1</td>\n",
       "    </tr>\n",
       "    <tr>\n",
       "      <th>229</th>\n",
       "      <td>IPR000008</td>\n",
       "      <td>1</td>\n",
       "      <td>C2 domain</td>\n",
       "    </tr>\n",
       "  </tbody>\n",
       "</table>\n",
       "<p>230 rows × 3 columns</p>\n",
       "</div>"
      ],
      "text/plain": [
       "        IPR_id  node_count                                        description\n",
       "0    IPR012337           6                    Ribonuclease H-like superfamily\n",
       "1    IPR007110           6                         Immunoglobulin-like domain\n",
       "2    IPR036179           6             Immunoglobulin-like domain superfamily\n",
       "3    IPR003598           6                           Immunoglobulin subtype 2\n",
       "4    IPR036397           5                         Ribonuclease H superfamily\n",
       "..         ...         ...                                                ...\n",
       "225  IPR016035           1  Acyl transferase/acyl hydrolase/lysophospholipase\n",
       "226  IPR016072           1                       SKP1 component, dimerisation\n",
       "227  IPR016255           1                            eIF-2-alpha kinase Gcn2\n",
       "228  IPR016897           1                S-phase kinase-associated protein 1\n",
       "229  IPR000008           1                                          C2 domain\n",
       "\n",
       "[230 rows x 3 columns]"
      ]
     },
     "execution_count": 24,
     "metadata": {},
     "output_type": "execute_result"
    }
   ],
   "source": [
    "node_count = all_nodes_output_df.drop_duplicates(['node', 'IPR_id'])[['IPR_id', 'node']].\\\n",
    "    groupby('IPR_id').count().reset_index().sort_values('node', ascending=False).rename({'node':'node_count'}, axis=1)\n",
    "node_count = node_count.merge(all_IPRS_desc)\n",
    "node_count"
   ]
  },
  {
   "cell_type": "code",
   "execution_count": 25,
   "id": "840d1922",
   "metadata": {
    "collapsed": true
   },
   "outputs": [],
   "source": [
    "node_count.to_csv(\"overrep_domains_node_count.tsv\", sep=\"\\t\", index=False)"
   ]
  },
  {
   "cell_type": "markdown",
   "id": "f50e4c5c",
   "metadata": {
    "collapsed": true
   },
   "source": [
    "### Run test with homeodomain only (for plotting pvalue of homeodomain vs number of CNEs)"
   ]
  },
  {
   "cell_type": "code",
   "execution_count": 2,
   "id": "54a72de5",
   "metadata": {
    "collapsed": true
   },
   "outputs": [],
   "source": [
    "homeo_IPRids = ['IPR009057', 'IPR017970', 'IPR001356', 'IPR020479', 'IPR008422', 'IPR032967',\n",
    "               'IPR032453', 'IPR000747' ] "
   ]
  },
  {
   "cell_type": "code",
   "execution_count": 24,
   "id": "fe10e707",
   "metadata": {
    "scrolled": true
   },
   "outputs": [
    {
     "name": "stdout",
     "output_type": "stream",
     "text": [
      "['pdam', 'aten', 'spis', 'dgig', 'mvir', 'hsym', 'ofav', 'nvec', 'epal', 'chem', 'hvul', 'adig', 'aaur']\n",
      "pdam\n",
      "Testing:  8 distinct IPRs\n",
      "cne threshold: 4.083872585904189\n",
      "Number of significant IPRs:  8\n",
      "aten\n",
      "Testing:  8 distinct IPRs\n",
      "cne threshold: 0.26306306306306304\n",
      "Number of significant IPRs:  8\n",
      "spis\n",
      "Testing:  8 distinct IPRs\n",
      "cne threshold: 4.288295902761008\n",
      "Number of significant IPRs:  8\n",
      "dgig\n",
      "Testing:  8 distinct IPRs\n",
      "cne threshold: 0.16157858924926288\n",
      "Number of significant IPRs:  8\n",
      "mvir\n",
      "Testing:  8 distinct IPRs\n",
      "cne threshold: 0.10931707718922481\n",
      "Number of significant IPRs:  8\n",
      "hsym\n",
      "Testing:  8 distinct IPRs\n",
      "cne threshold: 0.29347924802470254\n",
      "Number of significant IPRs:  8\n",
      "ofav\n",
      "Testing:  8 distinct IPRs\n",
      "cne threshold: 1.6517027266766942\n",
      "Number of significant IPRs:  8\n",
      "nvec\n",
      "Testing:  8 distinct IPRs\n",
      "cne threshold: 0.14556510798909625\n",
      "Number of significant IPRs:  8\n",
      "epal\n",
      "Testing:  8 distinct IPRs\n",
      "cne threshold: 0.22328846239282066\n",
      "Number of significant IPRs:  8\n",
      "chem\n",
      "Testing:  8 distinct IPRs\n",
      "cne threshold: 0.04989972096267876\n",
      "Number of significant IPRs:  8\n",
      "hvul\n",
      "Testing:  8 distinct IPRs\n",
      "cne threshold: 0.10115664572739057\n",
      "Number of significant IPRs:  8\n",
      "adig\n",
      "Testing:  8 distinct IPRs\n",
      "cne threshold: 1.9154681087715262\n",
      "Number of significant IPRs:  8\n",
      "aaur\n",
      "Testing:  8 distinct IPRs\n",
      "cne threshold: 0.06659594921603076\n",
      "Number of significant IPRs:  8\n"
     ]
    }
   ],
   "source": [
    "combined_output_df = pd.DataFrame()\n",
    "summary_by_sp = pd.DataFrame(columns=['species', 'cne_count', 'gene_count', 'cne_threshold', \n",
    "                                      'num_IPR_tested', 'num_sig_IPRs', 'num_homeo'])\n",
    "sp_list = list(set(closest_genes_df['species']))\n",
    "print(sp_list)\n",
    "for species in sp_list:\n",
    "    print(species)\n",
    "    sp_df = closest_genes_df[closest_genes_df['species'] == species]\n",
    "    sp_df = sp_df.groupby('gene_id').sum().reset_index() \n",
    "    merged_sp_df = gene_IPR_df[gene_IPR_df['species'] == species].merge(sp_df, how='left')\n",
    "    merged_sp_df['closest_cne_count'] = merged_sp_df['closest_cne_count'].fillna(value=0)\n",
    "    total_genes = len(gene_IPR_df[gene_IPR_df['species'] == species]['gene_id'].unique())\n",
    "    total_cnes = sum(sp_df['closest_cne_count'])\n",
    "    cne_threshold = total_cnes/total_genes # mean cne count per gene in genome\n",
    "    with_CNE_df = merged_sp_df[merged_sp_df['closest_cne_count'] > cne_threshold]\n",
    "    without_CNE_df = merged_sp_df[merged_sp_df['closest_cne_count'] <= cne_threshold]\n",
    "    gene_count_wCNE = len(with_CNE_df['gene_id'].unique())\n",
    "    gene_count_noCNE = len(without_CNE_df['gene_id'].unique())\n",
    "    # Only test homeodomain IDs\n",
    "    test_IPRs = homeo_IPRids\n",
    "    print(\"Testing: \", len(test_IPRs), \"distinct IPRs\")\n",
    "    print(\"cne threshold:\", cne_threshold)\n",
    "    pvalues = []\n",
    "    for test_IPR in test_IPRs:\n",
    "        gene_count_wCNE_wIPR = len(with_CNE_df[with_CNE_df['IPR_id'] == test_IPR]['gene_id'].unique())\n",
    "        gene_count_wCNE_noIPR = gene_count_wCNE - gene_count_wCNE_wIPR\n",
    "        gene_count_noCNE_wIPR = len(without_CNE_df[without_CNE_df['IPR_id'] == test_IPR]['gene_id'].unique())\n",
    "        gene_count_noCNE_noIPR = gene_count_noCNE - gene_count_noCNE_wIPR\n",
    "        # Make contingency table for Fisher test\n",
    "        cont_matrix = [[gene_count_wCNE_wIPR, gene_count_wCNE_noIPR], [gene_count_noCNE_wIPR, gene_count_noCNE_noIPR]]\n",
    "        # Run test\n",
    "        oddsratio, pvalue = stats.fisher_exact(cont_matrix, alternative = 'greater')\n",
    "        pvalues.append(pvalue)\n",
    "    padj = [pval * len(pvalues) for pval in pvalues]\n",
    "    table = {'IPR_id':test_IPRs, 'pvalue':pvalues, 'corrected pvalue':padj}\n",
    "    pval_df = pd.DataFrame(table)\n",
    "    pval_df = pval_df.sort_values(by = ['corrected pvalue'])\n",
    "    pval_df = pval_df.reset_index(drop = True)\n",
    "    print(\"Number of significant IPRs: \", len(pval_df))\n",
    "    pval_df = pval_df.merge(all_IPRS_desc).sort_values('corrected pvalue')\n",
    "    pval_df['species'] = species\n",
    "    num_homeo = pval_df[\"description\"].str.contains('Homeo').value_counts().get(True, 0)\n",
    "    summary_row = [species, total_cnes, total_genes, cne_threshold, len(test_IPRs), len(pval_df), num_homeo]\n",
    "    summary_by_sp.loc[len(summary_by_sp)] = summary_row\n",
    "    combined_output_df = combined_output_df.append(pval_df)\n",
    "combined_output_df = combined_output_df.merge(all_IPRS_desc).sort_values(['species', 'corrected pvalue'])"
   ]
  },
  {
   "cell_type": "code",
   "execution_count": 25,
   "id": "7a36fe5b",
   "metadata": {
    "scrolled": true
   },
   "outputs": [
    {
     "data": {
      "text/html": [
       "<div>\n",
       "<style scoped>\n",
       "    .dataframe tbody tr th:only-of-type {\n",
       "        vertical-align: middle;\n",
       "    }\n",
       "\n",
       "    .dataframe tbody tr th {\n",
       "        vertical-align: top;\n",
       "    }\n",
       "\n",
       "    .dataframe thead th {\n",
       "        text-align: right;\n",
       "    }\n",
       "</style>\n",
       "<table border=\"1\" class=\"dataframe\">\n",
       "  <thead>\n",
       "    <tr style=\"text-align: right;\">\n",
       "      <th></th>\n",
       "      <th>IPR_id</th>\n",
       "      <th>pvalue</th>\n",
       "      <th>corrected pvalue</th>\n",
       "      <th>description</th>\n",
       "      <th>species</th>\n",
       "    </tr>\n",
       "  </thead>\n",
       "  <tbody>\n",
       "    <tr>\n",
       "      <th>38</th>\n",
       "      <td>IPR009057</td>\n",
       "      <td>1.038193e-02</td>\n",
       "      <td>8.305545e-02</td>\n",
       "      <td>Homeobox-like domain superfamily</td>\n",
       "      <td>aaur</td>\n",
       "    </tr>\n",
       "    <tr>\n",
       "      <th>25</th>\n",
       "      <td>IPR001356</td>\n",
       "      <td>4.027438e-02</td>\n",
       "      <td>3.221950e-01</td>\n",
       "      <td>Homeobox domain</td>\n",
       "      <td>aaur</td>\n",
       "    </tr>\n",
       "    <tr>\n",
       "      <th>12</th>\n",
       "      <td>IPR017970</td>\n",
       "      <td>7.713947e-02</td>\n",
       "      <td>6.171157e-01</td>\n",
       "      <td>Homeobox, conserved site</td>\n",
       "      <td>aaur</td>\n",
       "    </tr>\n",
       "    <tr>\n",
       "      <th>51</th>\n",
       "      <td>IPR020479</td>\n",
       "      <td>5.628509e-01</td>\n",
       "      <td>4.502807e+00</td>\n",
       "      <td>Homeobox domain, metazoa</td>\n",
       "      <td>aaur</td>\n",
       "    </tr>\n",
       "    <tr>\n",
       "      <th>64</th>\n",
       "      <td>IPR008422</td>\n",
       "      <td>1.000000e+00</td>\n",
       "      <td>8.000000e+00</td>\n",
       "      <td>Homeobox KN domain</td>\n",
       "      <td>aaur</td>\n",
       "    </tr>\n",
       "    <tr>\n",
       "      <th>...</th>\n",
       "      <td>...</td>\n",
       "      <td>...</td>\n",
       "      <td>...</td>\n",
       "      <td>...</td>\n",
       "      <td>...</td>\n",
       "    </tr>\n",
       "    <tr>\n",
       "      <th>28</th>\n",
       "      <td>IPR009057</td>\n",
       "      <td>4.607072e-21</td>\n",
       "      <td>3.685658e-20</td>\n",
       "      <td>Homeobox-like domain superfamily</td>\n",
       "      <td>spis</td>\n",
       "    </tr>\n",
       "    <tr>\n",
       "      <th>41</th>\n",
       "      <td>IPR020479</td>\n",
       "      <td>1.075390e-16</td>\n",
       "      <td>8.603118e-16</td>\n",
       "      <td>Homeobox domain, metazoa</td>\n",
       "      <td>spis</td>\n",
       "    </tr>\n",
       "    <tr>\n",
       "      <th>54</th>\n",
       "      <td>IPR008422</td>\n",
       "      <td>2.992573e-01</td>\n",
       "      <td>2.394059e+00</td>\n",
       "      <td>Homeobox KN domain</td>\n",
       "      <td>spis</td>\n",
       "    </tr>\n",
       "    <tr>\n",
       "      <th>67</th>\n",
       "      <td>IPR032967</td>\n",
       "      <td>3.229494e-01</td>\n",
       "      <td>2.583595e+00</td>\n",
       "      <td>Retinal homeobox protein Rx-like</td>\n",
       "      <td>spis</td>\n",
       "    </tr>\n",
       "    <tr>\n",
       "      <th>80</th>\n",
       "      <td>IPR032453</td>\n",
       "      <td>5.416112e-01</td>\n",
       "      <td>4.332890e+00</td>\n",
       "      <td>Homeobox protein PKNOX/Meis, N-terminal</td>\n",
       "      <td>spis</td>\n",
       "    </tr>\n",
       "  </tbody>\n",
       "</table>\n",
       "<p>91 rows × 5 columns</p>\n",
       "</div>"
      ],
      "text/plain": [
       "       IPR_id        pvalue  corrected pvalue  \\\n",
       "38  IPR009057  1.038193e-02      8.305545e-02   \n",
       "25  IPR001356  4.027438e-02      3.221950e-01   \n",
       "12  IPR017970  7.713947e-02      6.171157e-01   \n",
       "51  IPR020479  5.628509e-01      4.502807e+00   \n",
       "64  IPR008422  1.000000e+00      8.000000e+00   \n",
       "..        ...           ...               ...   \n",
       "28  IPR009057  4.607072e-21      3.685658e-20   \n",
       "41  IPR020479  1.075390e-16      8.603118e-16   \n",
       "54  IPR008422  2.992573e-01      2.394059e+00   \n",
       "67  IPR032967  3.229494e-01      2.583595e+00   \n",
       "80  IPR032453  5.416112e-01      4.332890e+00   \n",
       "\n",
       "                                description species  \n",
       "38         Homeobox-like domain superfamily    aaur  \n",
       "25                          Homeobox domain    aaur  \n",
       "12                 Homeobox, conserved site    aaur  \n",
       "51                 Homeobox domain, metazoa    aaur  \n",
       "64                       Homeobox KN domain    aaur  \n",
       "..                                      ...     ...  \n",
       "28         Homeobox-like domain superfamily    spis  \n",
       "41                 Homeobox domain, metazoa    spis  \n",
       "54                       Homeobox KN domain    spis  \n",
       "67         Retinal homeobox protein Rx-like    spis  \n",
       "80  Homeobox protein PKNOX/Meis, N-terminal    spis  \n",
       "\n",
       "[91 rows x 5 columns]"
      ]
     },
     "execution_count": 25,
     "metadata": {},
     "output_type": "execute_result"
    }
   ],
   "source": [
    "combined_output_df"
   ]
  },
  {
   "cell_type": "code",
   "execution_count": 26,
   "id": "f09fbe2d",
   "metadata": {
    "collapsed": true
   },
   "outputs": [],
   "source": [
    "combined_output_df.to_csv('homeo_pvalues.tsv', sep=\"\\t\", index=False)"
   ]
  }
 ],
 "metadata": {
  "kernelspec": {
   "display_name": "Python 3 (ipykernel)",
   "language": "python",
   "name": "python3"
  },
  "language_info": {
   "codemirror_mode": {
    "name": "ipython",
    "version": 3
   },
   "file_extension": ".py",
   "mimetype": "text/x-python",
   "name": "python",
   "nbconvert_exporter": "python",
   "pygments_lexer": "ipython3",
   "version": "3.11.3"
  }
 },
 "nbformat": 4,
 "nbformat_minor": 5
}
