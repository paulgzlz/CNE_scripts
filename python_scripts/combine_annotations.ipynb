{
 "cells": [
  {
   "cell_type": "markdown",
   "metadata": {},
   "source": [
    "### Goal\n",
    "\n",
    "Combine diamond and pannzer annotations \n",
    "\n",
    "### Input\n",
    "\n",
    "- Directory of diamond (BLASTP) annotations\n",
    "- Directory of PANNZER annotations\n",
    "\n",
    "### Output\n",
    "\n",
    "species + \"_annotations_combined.tsv for every species"
   ]
  },
  {
   "cell_type": "code",
   "execution_count": 1,
   "metadata": {
    "collapsed": true
   },
   "outputs": [],
   "source": [
    "import pandas as pd\n",
    "import glob\n",
    "from functools import reduce\n",
    "from collections import defaultdict"
   ]
  },
  {
   "cell_type": "markdown",
   "metadata": {},
   "source": [
    "#### Annotation directories"
   ]
  },
  {
   "cell_type": "code",
   "execution_count": 2,
   "metadata": {
    "collapsed": true
   },
   "outputs": [],
   "source": [
    "diamond_dir = \"diamond/\"\n",
    "pannzer_dir = \"pannzer/\"\n",
    "#interpro_dir = \"interpro_files/\""
   ]
  },
  {
   "cell_type": "markdown",
   "metadata": {},
   "source": [
    "#### List diamond files"
   ]
  },
  {
   "cell_type": "code",
   "execution_count": 3,
   "metadata": {
    "collapsed": true
   },
   "outputs": [],
   "source": [
    "diamond_files = glob.glob(diamond_dir + \"*best_hit\")"
   ]
  },
  {
   "cell_type": "code",
   "execution_count": 4,
   "metadata": {},
   "outputs": [
    {
     "data": {
      "text/plain": [
       "['interpro_files/hvul_combined_short.tsv',\n",
       " 'interpro_files/epal_combined_short.tsv',\n",
       " 'interpro_files/hech_combined_short.tsv',\n",
       " 'interpro_files/mvir_combined_short.tsv',\n",
       " 'interpro_files/adig_combined_short.tsv',\n",
       " 'interpro_files/dgig_combined_short.tsv',\n",
       " 'interpro_files/chem_combined_short.tsv',\n",
       " 'interpro_files/pdam_combined_short.tsv',\n",
       " 'interpro_files/hsym_combined_short.tsv',\n",
       " 'interpro_files/hvu2_combined_short.tsv',\n",
       " 'interpro_files/nvec_combined_short.tsv',\n",
       " 'interpro_files/ofav_combined_short.tsv',\n",
       " 'interpro_files/amil_combined_short.tsv',\n",
       " 'interpro_files/aaur_combined_short.tsv',\n",
       " 'interpro_files/aten_combined_short.tsv',\n",
       " 'interpro_files/spis_combined_short.tsv']"
      ]
     },
     "execution_count": 4,
     "metadata": {},
     "output_type": "execute_result"
    }
   ],
   "source": [
    "interpro_files = glob.glob(interpro_dir + \"*short.tsv\")\n",
    "interpro_files"
   ]
  },
  {
   "cell_type": "markdown",
   "metadata": {},
   "source": [
    "#### Function that combines diamond and pannzer annotations"
   ]
  },
  {
   "cell_type": "code",
   "execution_count": 5,
   "metadata": {
    "collapsed": true
   },
   "outputs": [],
   "source": [
    "def combine_annotations(diamond_file, species):\n",
    "    diamond_annotations = pd.read_csv(diamond_file, sep=\"\\t\", \n",
    "                           names=['gene_id', 'blastp_hit', 'blastp_hit_id', 'pident', \n",
    "                                  'length', 'mismatch', 'gapopen', 'qstart',\n",
    "                                  'qend', 'sstart', 'send', 'evalue', 'bitscore'])\n",
    "    diamond_annotations = diamond_annotations[['gene_id', 'blastp_hit', 'evalue']]\n",
    "    pannzer_desc_file = glob.glob(pannzer_dir + species + \"_descriptions.out\")[0]\n",
    "    #print(pannzer_desc_file)\n",
    "    pannzer_GO_file = glob.glob(pannzer_dir + species + \"_GO_terms.out\")[0]\n",
    "    #print(pannzer_GO_file)\n",
    "    pannzer_desc = pd.read_csv(pannzer_desc_file, sep=\"\\t\")\n",
    "    pannzer_desc.rename(columns={'qpid':'gene_id', 'desc': 'pannzer_desc', 'genename': 'pannzer_name'}, inplace=True)\n",
    "    pannzer_desc = pannzer_desc[['gene_id', 'pannzer_desc', 'pannzer_name']]\n",
    "    pannzer_desc = pannzer_desc.drop_duplicates('gene_id')\n",
    "    pannzer_GO = pd.read_csv(pannzer_GO_file, sep=\"\\t\")\n",
    "    pannzer_MF = pannzer_GO[(pannzer_GO['ARGOT_rank'] == 1) & (pannzer_GO['ontology'] == 'MF')][['qpid', 'desc']]\n",
    "    pannzer_BP = pannzer_GO[(pannzer_GO['ARGOT_rank'] == 1) & (pannzer_GO['ontology'] == 'BP')][['qpid', 'desc']]\n",
    "    pannzer_CC = pannzer_GO[(pannzer_GO['ARGOT_rank'] == 1) & (pannzer_GO['ontology'] == 'CC')][['qpid', 'desc']]\n",
    "    pannzer_MF.columns = ['gene_id', 'molecular_function']\n",
    "    pannzer_BP.columns = ['gene_id', 'biological_process']\n",
    "    pannzer_CC.columns = ['gene_id', 'cellular_component']\n",
    "    annotation_list = [diamond_annotations, pannzer_desc, pannzer_MF, pannzer_BP, pannzer_CC]\n",
    "    annotations_combined = reduce(lambda left,right: pd.merge(left,right,on='gene_id', how='outer'), annotation_list)\n",
    "    return(annotations_combined)"
   ]
  },
  {
   "cell_type": "markdown",
   "metadata": {},
   "source": [
    "#### Combine annotations for each species"
   ]
  },
  {
   "cell_type": "code",
   "execution_count": 6,
   "metadata": {
    "scrolled": true
   },
   "outputs": [
    {
     "name": "stdout",
     "output_type": "stream",
     "text": [
      "combine annotations for species aaur\n",
      "combine annotations for species nvec\n",
      "combine annotations for species aten\n",
      "combine annotations for species dgig\n",
      "combine annotations for species spis\n",
      "combine annotations for species adig\n",
      "combine annotations for species hvul\n",
      "combine annotations for species amil\n",
      "combine annotations for species hsym\n",
      "combine annotations for species mvir\n",
      "combine annotations for species chem\n",
      "combine annotations for species hech\n",
      "combine annotations for species hvu2\n",
      "combine annotations for species pdam\n",
      "combine annotations for species epal\n",
      "combine annotations for species ofav\n"
     ]
    }
   ],
   "source": [
    "for diamond_file in diamond_files:\n",
    "    #print(diamond_file)\n",
    "    species = diamond_file.split(\"/\")[-1].split(\".\")[0]\n",
    "    print(\"combine annotations for species\", species)\n",
    "    annotations_combined = combine_annotations(diamond_file, species)\n",
    "    annotations_combined.to_csv(species + \"_annotations_combined.tsv\", sep=\"\\t\", index=False)"
   ]
  }
 ],
 "metadata": {
  "kernelspec": {
   "display_name": "Python 3 (ipykernel)",
   "language": "python",
   "name": "python3"
  },
  "language_info": {
   "codemirror_mode": {
    "name": "ipython",
    "version": 3
   },
   "file_extension": ".py",
   "mimetype": "text/x-python",
   "name": "python",
   "nbconvert_exporter": "python",
   "pygments_lexer": "ipython3",
   "version": "3.11.3"
  }
 },
 "nbformat": 4,
 "nbformat_minor": 2
}
